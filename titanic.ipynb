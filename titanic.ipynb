{
 "cells": [
  {
   "cell_type": "code",
   "execution_count": 1,
   "id": "b7df8c9f",
   "metadata": {
    "execution": {
     "iopub.execute_input": "2022-05-23T23:30:09.584939Z",
     "iopub.status.busy": "2022-05-23T23:30:09.583923Z",
     "iopub.status.idle": "2022-05-23T23:30:10.801585Z",
     "shell.execute_reply": "2022-05-23T23:30:10.800304Z"
    },
    "papermill": {
     "duration": 1.282218,
     "end_time": "2022-05-23T23:30:10.804288",
     "exception": false,
     "start_time": "2022-05-23T23:30:09.522070",
     "status": "completed"
    },
    "tags": []
   },
   "outputs": [],
   "source": [
    "import pandas as pd\n",
    "import numpy as np\n",
    "import random as rnd\n",
    "import seaborn as sns\n",
    "import matplotlib.pyplot as plt\n",
    "%matplotlib inline"
   ]
  },
  {
   "cell_type": "code",
   "execution_count": 2,
   "id": "36364458",
   "metadata": {
    "execution": {
     "iopub.execute_input": "2022-05-23T23:30:10.920301Z",
     "iopub.status.busy": "2022-05-23T23:30:10.919597Z",
     "iopub.status.idle": "2022-05-23T23:30:10.945518Z",
     "shell.execute_reply": "2022-05-23T23:30:10.944906Z"
    },
    "papermill": {
     "duration": 0.08658,
     "end_time": "2022-05-23T23:30:10.947629",
     "exception": false,
     "start_time": "2022-05-23T23:30:10.861049",
     "status": "completed"
    },
    "tags": []
   },
   "outputs": [],
   "source": [
    "train_df = pd.read_csv('../input/titanic/train.csv')\n",
    "test_df = pd.read_csv('../input/titanic/train.csv')"
   ]
  },
  {
   "cell_type": "code",
   "execution_count": 3,
   "id": "2cab87ca",
   "metadata": {
    "execution": {
     "iopub.execute_input": "2022-05-23T23:30:11.063470Z",
     "iopub.status.busy": "2022-05-23T23:30:11.063016Z",
     "iopub.status.idle": "2022-05-23T23:30:11.070132Z",
     "shell.execute_reply": "2022-05-23T23:30:11.069467Z"
    },
    "papermill": {
     "duration": 0.066917,
     "end_time": "2022-05-23T23:30:11.072164",
     "exception": false,
     "start_time": "2022-05-23T23:30:11.005247",
     "status": "completed"
    },
    "tags": []
   },
   "outputs": [
    {
     "data": {
      "text/plain": [
       "(891, 12)"
      ]
     },
     "execution_count": 3,
     "metadata": {},
     "output_type": "execute_result"
    }
   ],
   "source": [
    "train_df.shape"
   ]
  },
  {
   "cell_type": "code",
   "execution_count": 4,
   "id": "45764e08",
   "metadata": {
    "execution": {
     "iopub.execute_input": "2022-05-23T23:30:11.190865Z",
     "iopub.status.busy": "2022-05-23T23:30:11.190046Z",
     "iopub.status.idle": "2022-05-23T23:30:11.202379Z",
     "shell.execute_reply": "2022-05-23T23:30:11.201160Z"
    },
    "papermill": {
     "duration": 0.072921,
     "end_time": "2022-05-23T23:30:11.205257",
     "exception": false,
     "start_time": "2022-05-23T23:30:11.132336",
     "status": "completed"
    },
    "tags": []
   },
   "outputs": [
    {
     "data": {
      "text/plain": [
       "PassengerId    0.000000\n",
       "Survived       0.000000\n",
       "Pclass         0.000000\n",
       "Name           0.000000\n",
       "Sex            0.000000\n",
       "Age            0.198653\n",
       "SibSp          0.000000\n",
       "Parch          0.000000\n",
       "Ticket         0.000000\n",
       "Fare           0.000000\n",
       "Cabin          0.771044\n",
       "Embarked       0.002245\n",
       "dtype: float64"
      ]
     },
     "execution_count": 4,
     "metadata": {},
     "output_type": "execute_result"
    }
   ],
   "source": [
    "train_df.isnull().mean()"
   ]
  },
  {
   "cell_type": "code",
   "execution_count": 5,
   "id": "ae3f47ef",
   "metadata": {
    "execution": {
     "iopub.execute_input": "2022-05-23T23:30:11.385899Z",
     "iopub.status.busy": "2022-05-23T23:30:11.385445Z",
     "iopub.status.idle": "2022-05-23T23:30:11.549306Z",
     "shell.execute_reply": "2022-05-23T23:30:11.548545Z"
    },
    "papermill": {
     "duration": 0.25679,
     "end_time": "2022-05-23T23:30:11.551380",
     "exception": false,
     "start_time": "2022-05-23T23:30:11.294590",
     "status": "completed"
    },
    "tags": []
   },
   "outputs": [
    {
     "data": {
      "text/plain": [
       "<AxesSubplot:>"
      ]
     },
     "execution_count": 5,
     "metadata": {},
     "output_type": "execute_result"
    },
    {
     "data": {
      "image/png": "[encoded data removed]",
      "text/plain": [
       "<Figure size 432x288 with 1 Axes>"
      ]
     },
     "metadata": {
      "needs_background": "light"
     },
     "output_type": "display_data"
    }
   ],
   "source": [
    "sns.boxplot(data = train_df['Age']) "
   ]
  },
  {
   "cell_type": "code",
   "execution_count": 6,
   "id": "199d2abe",
   "metadata": {
    "execution": {
     "iopub.execute_input": "2022-05-23T23:30:11.672271Z",
     "iopub.status.busy": "2022-05-23T23:30:11.671734Z",
     "iopub.status.idle": "2022-05-23T23:30:11.676415Z",
     "shell.execute_reply": "2022-05-23T23:30:11.675858Z"
    },
    "papermill": {
     "duration": 0.067272,
     "end_time": "2022-05-23T23:30:11.678511",
     "exception": false,
     "start_time": "2022-05-23T23:30:11.611239",
     "status": "completed"
    },
    "tags": []
   },
   "outputs": [],
   "source": [
    "mean = train_df.Age.mean()\n",
    "train_df.Age.fillna(mean, inplace = True)"
   ]
  },
  {
   "cell_type": "code",
   "execution_count": 7,
   "id": "89474542",
   "metadata": {
    "execution": {
     "iopub.execute_input": "2022-05-23T23:30:11.798752Z",
     "iopub.status.busy": "2022-05-23T23:30:11.798207Z",
     "iopub.status.idle": "2022-05-23T23:30:11.803298Z",
     "shell.execute_reply": "2022-05-23T23:30:11.802715Z"
    },
    "papermill": {
     "duration": 0.06724,
     "end_time": "2022-05-23T23:30:11.805423",
     "exception": false,
     "start_time": "2022-05-23T23:30:11.738183",
     "status": "completed"
    },
    "tags": []
   },
   "outputs": [],
   "source": [
    "mean = test_df.Age.mean()\n",
    "test_df.Age.fillna(mean, inplace = True)"
   ]
  },
  {
   "cell_type": "code",
   "execution_count": 8,
   "id": "721ebec2",
   "metadata": {
    "execution": {
     "iopub.execute_input": "2022-05-23T23:30:11.926423Z",
     "iopub.status.busy": "2022-05-23T23:30:11.925881Z",
     "iopub.status.idle": "2022-05-23T23:30:11.934793Z",
     "shell.execute_reply": "2022-05-23T23:30:11.933772Z"
    },
    "papermill": {
     "duration": 0.071502,
     "end_time": "2022-05-23T23:30:11.936582",
     "exception": false,
     "start_time": "2022-05-23T23:30:11.865080",
     "status": "completed"
    },
    "tags": []
   },
   "outputs": [
    {
     "data": {
      "text/plain": [
       "PassengerId      0\n",
       "Survived         0\n",
       "Pclass           0\n",
       "Name             0\n",
       "Sex              0\n",
       "Age              0\n",
       "SibSp            0\n",
       "Parch            0\n",
       "Ticket           0\n",
       "Fare             0\n",
       "Cabin          687\n",
       "Embarked         2\n",
       "dtype: int64"
      ]
     },
     "execution_count": 8,
     "metadata": {},
     "output_type": "execute_result"
    }
   ],
   "source": [
    "train_df.isnull().sum()"
   ]
  },
  {
   "cell_type": "markdown",
   "id": "885e5e1f",
   "metadata": {
    "papermill": {
     "duration": 0.059608,
     "end_time": "2022-05-23T23:30:12.055181",
     "exception": false,
     "start_time": "2022-05-23T23:30:11.995573",
     "status": "completed"
    },
    "tags": []
   },
   "source": [
    "# Dropping Not important Features."
   ]
  },
  {
   "cell_type": "code",
   "execution_count": 9,
   "id": "72e453eb",
   "metadata": {
    "execution": {
     "iopub.execute_input": "2022-05-23T23:30:12.177261Z",
     "iopub.status.busy": "2022-05-23T23:30:12.176751Z",
     "iopub.status.idle": "2022-05-23T23:30:12.222206Z",
     "shell.execute_reply": "2022-05-23T23:30:12.221457Z"
    },
    "papermill": {
     "duration": 0.109486,
     "end_time": "2022-05-23T23:30:12.224382",
     "exception": false,
     "start_time": "2022-05-23T23:30:12.114896",
     "status": "completed"
    },
    "tags": []
   },
   "outputs": [
    {
     "data": {
      "text/html": [
       "<div>\n",
       "<style scoped>\n",
       "    .dataframe tbody tr th:only-of-type {\n",
       "        vertical-align: middle;\n",
       "    }\n",
       "\n",
       "    .dataframe tbody tr th {\n",
       "        vertical-align: top;\n",
       "    }\n",
       "\n",
       "    .dataframe thead th {\n",
       "        text-align: right;\n",
       "    }\n",
       "</style>\n",
       "<table border=\"1\" class=\"dataframe\">\n",
       "  <thead>\n",
       "    <tr style=\"text-align: right;\">\n",
       "      <th></th>\n",
       "      <th>PassengerId</th>\n",
       "      <th>Survived</th>\n",
       "      <th>Pclass</th>\n",
       "      <th>Age</th>\n",
       "      <th>SibSp</th>\n",
       "      <th>Parch</th>\n",
       "      <th>Fare</th>\n",
       "    </tr>\n",
       "  </thead>\n",
       "  <tbody>\n",
       "    <tr>\n",
       "      <th>count</th>\n",
       "      <td>891.000000</td>\n",
       "      <td>891.000000</td>\n",
       "      <td>891.000000</td>\n",
       "      <td>891.000000</td>\n",
       "      <td>891.000000</td>\n",
       "      <td>891.000000</td>\n",
       "      <td>891.000000</td>\n",
       "    </tr>\n",
       "    <tr>\n",
       "      <th>mean</th>\n",
       "      <td>446.000000</td>\n",
       "      <td>0.383838</td>\n",
       "      <td>2.308642</td>\n",
       "      <td>29.699118</td>\n",
       "      <td>0.523008</td>\n",
       "      <td>0.381594</td>\n",
       "      <td>32.204208</td>\n",
       "    </tr>\n",
       "    <tr>\n",
       "      <th>std</th>\n",
       "      <td>257.353842</td>\n",
       "      <td>0.486592</td>\n",
       "      <td>0.836071</td>\n",
       "      <td>13.002015</td>\n",
       "      <td>1.102743</td>\n",
       "      <td>0.806057</td>\n",
       "      <td>49.693429</td>\n",
       "    </tr>\n",
       "    <tr>\n",
       "      <th>min</th>\n",
       "      <td>1.000000</td>\n",
       "      <td>0.000000</td>\n",
       "      <td>1.000000</td>\n",
       "      <td>0.420000</td>\n",
       "      <td>0.000000</td>\n",
       "      <td>0.000000</td>\n",
       "      <td>0.000000</td>\n",
       "    </tr>\n",
       "    <tr>\n",
       "      <th>25%</th>\n",
       "      <td>223.500000</td>\n",
       "      <td>0.000000</td>\n",
       "      <td>2.000000</td>\n",
       "      <td>22.000000</td>\n",
       "      <td>0.000000</td>\n",
       "      <td>0.000000</td>\n",
       "      <td>7.910400</td>\n",
       "    </tr>\n",
       "    <tr>\n",
       "      <th>50%</th>\n",
       "      <td>446.000000</td>\n",
       "      <td>0.000000</td>\n",
       "      <td>3.000000</td>\n",
       "      <td>29.699118</td>\n",
       "      <td>0.000000</td>\n",
       "      <td>0.000000</td>\n",
       "      <td>14.454200</td>\n",
       "    </tr>\n",
       "    <tr>\n",
       "      <th>75%</th>\n",
       "      <td>668.500000</td>\n",
       "      <td>1.000000</td>\n",
       "      <td>3.000000</td>\n",
       "      <td>35.000000</td>\n",
       "      <td>1.000000</td>\n",
       "      <td>0.000000</td>\n",
       "      <td>31.000000</td>\n",
       "    </tr>\n",
       "    <tr>\n",
       "      <th>max</th>\n",
       "      <td>891.000000</td>\n",
       "      <td>1.000000</td>\n",
       "      <td>3.000000</td>\n",
       "      <td>80.000000</td>\n",
       "      <td>8.000000</td>\n",
       "      <td>6.000000</td>\n",
       "      <td>512.329200</td>\n",
       "    </tr>\n",
       "  </tbody>\n",
       "</table>\n",
       "</div>"
      ],
      "text/plain": [
       "       PassengerId    Survived      Pclass         Age       SibSp  \\\n",
       "count   891.000000  891.000000  891.000000  891.000000  891.000000   \n",
       "mean    446.000000    0.383838    2.308642   29.699118    0.523008   \n",
       "std     257.353842    0.486592    0.836071   13.002015    1.102743   \n",
       "min       1.000000    0.000000    1.000000    0.420000    0.000000   \n",
       "25%     223.500000    0.000000    2.000000   22.000000    0.000000   \n",
       "50%     446.000000    0.000000    3.000000   29.699118    0.000000   \n",
       "75%     668.500000    1.000000    3.000000   35.000000    1.000000   \n",
       "max     891.000000    1.000000    3.000000   80.000000    8.000000   \n",
       "\n",
       "            Parch        Fare  \n",
       "count  891.000000  891.000000  \n",
       "mean     0.381594   32.204208  \n",
       "std      0.806057   49.693429  \n",
       "min      0.000000    0.000000  \n",
       "25%      0.000000    7.910400  \n",
       "50%      0.000000   14.454200  \n",
       "75%      0.000000   31.000000  \n",
       "max      6.000000  512.329200  "
      ]
     },
     "execution_count": 9,
     "metadata": {},
     "output_type": "execute_result"
    }
   ],
   "source": [
    "train_df.describe()"
   ]
  },
  {
   "cell_type": "code",
   "execution_count": 10,
   "id": "39dd7ab2",
   "metadata": {
    "execution": {
     "iopub.execute_input": "2022-05-23T23:30:12.346310Z",
     "iopub.status.busy": "2022-05-23T23:30:12.345371Z",
     "iopub.status.idle": "2022-05-23T23:30:12.453954Z",
     "shell.execute_reply": "2022-05-23T23:30:12.452984Z"
    },
    "papermill": {
     "duration": 0.173054,
     "end_time": "2022-05-23T23:30:12.456931",
     "exception": false,
     "start_time": "2022-05-23T23:30:12.283877",
     "status": "completed"
    },
    "tags": []
   },
   "outputs": [
    {
     "data": {
      "text/plain": [
       "<AxesSubplot:>"
      ]
     },
     "execution_count": 10,
     "metadata": {},
     "output_type": "execute_result"
    },
    {
     "data": {
      "image/png": "[encoded data removed]",
      "text/plain": [
       "<Figure size 432x288 with 1 Axes>"
      ]
     },
     "metadata": {
      "needs_background": "light"
     },
     "output_type": "display_data"
    }
   ],
   "source": [
    "sns.boxplot(data = train_df.Fare)"
   ]
  },
  {
   "cell_type": "markdown",
   "id": "7ba08ea5",
   "metadata": {
    "papermill": {
     "duration": 0.095519,
     "end_time": "2022-05-23T23:30:12.654976",
     "exception": false,
     "start_time": "2022-05-23T23:30:12.559457",
     "status": "completed"
    },
    "tags": []
   },
   "source": [
    "# We can Convert Fare info into highpayers low payers middle payers."
   ]
  },
  {
   "cell_type": "code",
   "execution_count": 11,
   "id": "099001e2",
   "metadata": {
    "execution": {
     "iopub.execute_input": "2022-05-23T23:30:12.849430Z",
     "iopub.status.busy": "2022-05-23T23:30:12.848749Z",
     "iopub.status.idle": "2022-05-23T23:30:12.854755Z",
     "shell.execute_reply": "2022-05-23T23:30:12.854034Z"
    },
    "papermill": {
     "duration": 0.105529,
     "end_time": "2022-05-23T23:30:12.856584",
     "exception": false,
     "start_time": "2022-05-23T23:30:12.751055",
     "status": "completed"
    },
    "tags": []
   },
   "outputs": [
    {
     "data": {
      "text/plain": [
       "PassengerId      int64\n",
       "Survived         int64\n",
       "Pclass           int64\n",
       "Name            object\n",
       "Sex             object\n",
       "Age            float64\n",
       "SibSp            int64\n",
       "Parch            int64\n",
       "Ticket          object\n",
       "Fare           float64\n",
       "Cabin           object\n",
       "Embarked        object\n",
       "dtype: object"
      ]
     },
     "execution_count": 11,
     "metadata": {},
     "output_type": "execute_result"
    }
   ],
   "source": [
    "train_df.dtypes"
   ]
  },
  {
   "cell_type": "code",
   "execution_count": 12,
   "id": "f50f4698",
   "metadata": {
    "execution": {
     "iopub.execute_input": "2022-05-23T23:30:13.051068Z",
     "iopub.status.busy": "2022-05-23T23:30:13.050627Z",
     "iopub.status.idle": "2022-05-23T23:30:13.064246Z",
     "shell.execute_reply": "2022-05-23T23:30:13.063398Z"
    },
    "papermill": {
     "duration": 0.113252,
     "end_time": "2022-05-23T23:30:13.066903",
     "exception": false,
     "start_time": "2022-05-23T23:30:12.953651",
     "status": "completed"
    },
    "tags": []
   },
   "outputs": [],
   "source": [
    "x = pd.cut(train_df['Fare'].to_list(), 4)"
   ]
  },
  {
   "cell_type": "code",
   "execution_count": 13,
   "id": "d7a08395",
   "metadata": {
    "execution": {
     "iopub.execute_input": "2022-05-23T23:30:13.262720Z",
     "iopub.status.busy": "2022-05-23T23:30:13.262413Z",
     "iopub.status.idle": "2022-05-23T23:30:13.268510Z",
     "shell.execute_reply": "2022-05-23T23:30:13.267554Z"
    },
    "papermill": {
     "duration": 0.106636,
     "end_time": "2022-05-23T23:30:13.270659",
     "exception": false,
     "start_time": "2022-05-23T23:30:13.164023",
     "status": "completed"
    },
    "tags": []
   },
   "outputs": [],
   "source": [
    "train_df['Fare_band'] = x\n",
    "labels = ['low', 'middle', 'upper_middle','high']\n",
    "x.categories = labels\n",
    "train_df['Fare_category'] = x"
   ]
  },
  {
   "cell_type": "code",
   "execution_count": 14,
   "id": "2ea4b8e1",
   "metadata": {
    "execution": {
     "iopub.execute_input": "2022-05-23T23:30:13.465406Z",
     "iopub.status.busy": "2022-05-23T23:30:13.465153Z",
     "iopub.status.idle": "2022-05-23T23:30:13.472699Z",
     "shell.execute_reply": "2022-05-23T23:30:13.472241Z"
    },
    "papermill": {
     "duration": 0.107053,
     "end_time": "2022-05-23T23:30:13.475399",
     "exception": false,
     "start_time": "2022-05-23T23:30:13.368346",
     "status": "completed"
    },
    "tags": []
   },
   "outputs": [
    {
     "data": {
      "text/plain": [
       "[(-0.512, 128.082], (256.165, 384.247], (128.082, 256.165], (384.247, 512.329]]\n",
       "Categories (4, interval[float64, right]): [(-0.512, 128.082] < (128.082, 256.165] < (256.165, 384.247] < (384.247, 512.329]]"
      ]
     },
     "execution_count": 14,
     "metadata": {},
     "output_type": "execute_result"
    }
   ],
   "source": [
    "train_df.Fare_band.unique()"
   ]
  },
  {
   "cell_type": "code",
   "execution_count": 15,
   "id": "a56191cd",
   "metadata": {
    "execution": {
     "iopub.execute_input": "2022-05-23T23:30:13.671761Z",
     "iopub.status.busy": "2022-05-23T23:30:13.671243Z",
     "iopub.status.idle": "2022-05-23T23:30:13.677315Z",
     "shell.execute_reply": "2022-05-23T23:30:13.676552Z"
    },
    "papermill": {
     "duration": 0.106252,
     "end_time": "2022-05-23T23:30:13.679218",
     "exception": false,
     "start_time": "2022-05-23T23:30:13.572966",
     "status": "completed"
    },
    "tags": []
   },
   "outputs": [
    {
     "data": {
      "text/plain": [
       "PassengerId         int64\n",
       "Survived            int64\n",
       "Pclass              int64\n",
       "Name               object\n",
       "Sex                object\n",
       "Age               float64\n",
       "SibSp               int64\n",
       "Parch               int64\n",
       "Ticket             object\n",
       "Fare              float64\n",
       "Cabin              object\n",
       "Embarked           object\n",
       "Fare_band        category\n",
       "Fare_category    category\n",
       "dtype: object"
      ]
     },
     "execution_count": 15,
     "metadata": {},
     "output_type": "execute_result"
    }
   ],
   "source": [
    "train_df.dtypes"
   ]
  },
  {
   "cell_type": "code",
   "execution_count": 16,
   "id": "1fbb660d",
   "metadata": {
    "execution": {
     "iopub.execute_input": "2022-05-23T23:30:13.879501Z",
     "iopub.status.busy": "2022-05-23T23:30:13.879058Z",
     "iopub.status.idle": "2022-05-23T23:30:13.887045Z",
     "shell.execute_reply": "2022-05-23T23:30:13.886545Z"
    },
    "papermill": {
     "duration": 0.110967,
     "end_time": "2022-05-23T23:30:13.888838",
     "exception": false,
     "start_time": "2022-05-23T23:30:13.777871",
     "status": "completed"
    },
    "tags": []
   },
   "outputs": [
    {
     "data": {
      "text/plain": [
       "(-0.512, 128.082]     853\n",
       "(128.082, 256.165]     29\n",
       "(256.165, 384.247]      6\n",
       "(384.247, 512.329]      3\n",
       "Name: Fare_band, dtype: int64"
      ]
     },
     "execution_count": 16,
     "metadata": {},
     "output_type": "execute_result"
    }
   ],
   "source": [
    "train_df.Fare_band.value_counts()"
   ]
  },
  {
   "cell_type": "code",
   "execution_count": 17,
   "id": "ed3db565",
   "metadata": {
    "execution": {
     "iopub.execute_input": "2022-05-23T23:30:14.087858Z",
     "iopub.status.busy": "2022-05-23T23:30:14.087192Z",
     "iopub.status.idle": "2022-05-23T23:30:14.097573Z",
     "shell.execute_reply": "2022-05-23T23:30:14.096956Z"
    },
    "papermill": {
     "duration": 0.111419,
     "end_time": "2022-05-23T23:30:14.100005",
     "exception": false,
     "start_time": "2022-05-23T23:30:13.988586",
     "status": "completed"
    },
    "tags": []
   },
   "outputs": [],
   "source": [
    "bins = pd.IntervalIndex.from_tuples([(-0.512, 128.082), (128.082, 256.165), (256.165, 384.247),(384.247, 512.329)])\n",
    "x1 = pd.cut(test_df['Fare'].to_list(), bins)\n",
    "test_df['Fair_band'] = x1"
   ]
  },
  {
   "cell_type": "code",
   "execution_count": 18,
   "id": "3901273f",
   "metadata": {
    "execution": {
     "iopub.execute_input": "2022-05-23T23:30:14.302478Z",
     "iopub.status.busy": "2022-05-23T23:30:14.302034Z",
     "iopub.status.idle": "2022-05-23T23:30:14.306442Z",
     "shell.execute_reply": "2022-05-23T23:30:14.305504Z"
    },
    "papermill": {
     "duration": 0.108392,
     "end_time": "2022-05-23T23:30:14.308924",
     "exception": false,
     "start_time": "2022-05-23T23:30:14.200532",
     "status": "completed"
    },
    "tags": []
   },
   "outputs": [],
   "source": [
    "x1.categories = ['low', 'middle', 'upper_middle','high']\n",
    "test_df['Fare_category'] = x1"
   ]
  },
  {
   "cell_type": "code",
   "execution_count": 19,
   "id": "20063d83",
   "metadata": {
    "execution": {
     "iopub.execute_input": "2022-05-23T23:30:14.509484Z",
     "iopub.status.busy": "2022-05-23T23:30:14.509060Z",
     "iopub.status.idle": "2022-05-23T23:30:14.523570Z",
     "shell.execute_reply": "2022-05-23T23:30:14.523150Z"
    },
    "papermill": {
     "duration": 0.118028,
     "end_time": "2022-05-23T23:30:14.526377",
     "exception": false,
     "start_time": "2022-05-23T23:30:14.408349",
     "status": "completed"
    },
    "tags": []
   },
   "outputs": [
    {
     "data": {
      "text/html": [
       "<div>\n",
       "<style scoped>\n",
       "    .dataframe tbody tr th:only-of-type {\n",
       "        vertical-align: middle;\n",
       "    }\n",
       "\n",
       "    .dataframe tbody tr th {\n",
       "        vertical-align: top;\n",
       "    }\n",
       "\n",
       "    .dataframe thead th {\n",
       "        text-align: right;\n",
       "    }\n",
       "</style>\n",
       "<table border=\"1\" class=\"dataframe\">\n",
       "  <thead>\n",
       "    <tr style=\"text-align: right;\">\n",
       "      <th></th>\n",
       "      <th>PassengerId</th>\n",
       "      <th>Survived</th>\n",
       "      <th>Pclass</th>\n",
       "      <th>Name</th>\n",
       "      <th>Sex</th>\n",
       "      <th>Age</th>\n",
       "      <th>SibSp</th>\n",
       "      <th>Parch</th>\n",
       "      <th>Ticket</th>\n",
       "      <th>Fare</th>\n",
       "      <th>Cabin</th>\n",
       "      <th>Embarked</th>\n",
       "      <th>Fare_band</th>\n",
       "      <th>Fare_category</th>\n",
       "    </tr>\n",
       "  </thead>\n",
       "  <tbody>\n",
       "    <tr>\n",
       "      <th>0</th>\n",
       "      <td>1</td>\n",
       "      <td>0</td>\n",
       "      <td>3</td>\n",
       "      <td>Braund, Mr. Owen Harris</td>\n",
       "      <td>male</td>\n",
       "      <td>22.0</td>\n",
       "      <td>1</td>\n",
       "      <td>0</td>\n",
       "      <td>A/5 21171</td>\n",
       "      <td>7.2500</td>\n",
       "      <td>NaN</td>\n",
       "      <td>S</td>\n",
       "      <td>(-0.512, 128.082]</td>\n",
       "      <td>low</td>\n",
       "    </tr>\n",
       "    <tr>\n",
       "      <th>1</th>\n",
       "      <td>2</td>\n",
       "      <td>1</td>\n",
       "      <td>1</td>\n",
       "      <td>Cumings, Mrs. John Bradley (Florence Briggs Th...</td>\n",
       "      <td>female</td>\n",
       "      <td>38.0</td>\n",
       "      <td>1</td>\n",
       "      <td>0</td>\n",
       "      <td>PC 17599</td>\n",
       "      <td>71.2833</td>\n",
       "      <td>C85</td>\n",
       "      <td>C</td>\n",
       "      <td>(-0.512, 128.082]</td>\n",
       "      <td>low</td>\n",
       "    </tr>\n",
       "    <tr>\n",
       "      <th>2</th>\n",
       "      <td>3</td>\n",
       "      <td>1</td>\n",
       "      <td>3</td>\n",
       "      <td>Heikkinen, Miss. Laina</td>\n",
       "      <td>female</td>\n",
       "      <td>26.0</td>\n",
       "      <td>0</td>\n",
       "      <td>0</td>\n",
       "      <td>STON/O2. 3101282</td>\n",
       "      <td>7.9250</td>\n",
       "      <td>NaN</td>\n",
       "      <td>S</td>\n",
       "      <td>(-0.512, 128.082]</td>\n",
       "      <td>low</td>\n",
       "    </tr>\n",
       "    <tr>\n",
       "      <th>3</th>\n",
       "      <td>4</td>\n",
       "      <td>1</td>\n",
       "      <td>1</td>\n",
       "      <td>Futrelle, Mrs. Jacques Heath (Lily May Peel)</td>\n",
       "      <td>female</td>\n",
       "      <td>35.0</td>\n",
       "      <td>1</td>\n",
       "      <td>0</td>\n",
       "      <td>113803</td>\n",
       "      <td>53.1000</td>\n",
       "      <td>C123</td>\n",
       "      <td>S</td>\n",
       "      <td>(-0.512, 128.082]</td>\n",
       "      <td>low</td>\n",
       "    </tr>\n",
       "    <tr>\n",
       "      <th>4</th>\n",
       "      <td>5</td>\n",
       "      <td>0</td>\n",
       "      <td>3</td>\n",
       "      <td>Allen, Mr. William Henry</td>\n",
       "      <td>male</td>\n",
       "      <td>35.0</td>\n",
       "      <td>0</td>\n",
       "      <td>0</td>\n",
       "      <td>373450</td>\n",
       "      <td>8.0500</td>\n",
       "      <td>NaN</td>\n",
       "      <td>S</td>\n",
       "      <td>(-0.512, 128.082]</td>\n",
       "      <td>low</td>\n",
       "    </tr>\n",
       "  </tbody>\n",
       "</table>\n",
       "</div>"
      ],
      "text/plain": [
       "   PassengerId  Survived  Pclass  \\\n",
       "0            1         0       3   \n",
       "1            2         1       1   \n",
       "2            3         1       3   \n",
       "3            4         1       1   \n",
       "4            5         0       3   \n",
       "\n",
       "                                                Name     Sex   Age  SibSp  \\\n",
       "0                            Braund, Mr. Owen Harris    male  22.0      1   \n",
       "1  Cumings, Mrs. John Bradley (Florence Briggs Th...  female  38.0      1   \n",
       "2                             Heikkinen, Miss. Laina  female  26.0      0   \n",
       "3       Futrelle, Mrs. Jacques Heath (Lily May Peel)  female  35.0      1   \n",
       "4                           Allen, Mr. William Henry    male  35.0      0   \n",
       "\n",
       "   Parch            Ticket     Fare Cabin Embarked          Fare_band  \\\n",
       "0      0         A/5 21171   7.2500   NaN        S  (-0.512, 128.082]   \n",
       "1      0          PC 17599  71.2833   C85        C  (-0.512, 128.082]   \n",
       "2      0  STON/O2. 3101282   7.9250   NaN        S  (-0.512, 128.082]   \n",
       "3      0            113803  53.1000  C123        S  (-0.512, 128.082]   \n",
       "4      0            373450   8.0500   NaN        S  (-0.512, 128.082]   \n",
       "\n",
       "  Fare_category  \n",
       "0           low  \n",
       "1           low  \n",
       "2           low  \n",
       "3           low  \n",
       "4           low  "
      ]
     },
     "execution_count": 19,
     "metadata": {},
     "output_type": "execute_result"
    }
   ],
   "source": [
    "train_df.head()"
   ]
  },
  {
   "cell_type": "markdown",
   "id": "a00706dd",
   "metadata": {
    "papermill": {
     "duration": 0.100935,
     "end_time": "2022-05-23T23:30:14.727876",
     "exception": false,
     "start_time": "2022-05-23T23:30:14.626941",
     "status": "completed"
    },
    "tags": []
   },
   "source": [
    "# dropping unecessary features."
   ]
  },
  {
   "cell_type": "code",
   "execution_count": 20,
   "id": "f8e3f6ac",
   "metadata": {
    "execution": {
     "iopub.execute_input": "2022-05-23T23:30:14.931246Z",
     "iopub.status.busy": "2022-05-23T23:30:14.930857Z",
     "iopub.status.idle": "2022-05-23T23:30:14.935907Z",
     "shell.execute_reply": "2022-05-23T23:30:14.935041Z"
    },
    "papermill": {
     "duration": 0.109322,
     "end_time": "2022-05-23T23:30:14.937898",
     "exception": false,
     "start_time": "2022-05-23T23:30:14.828576",
     "status": "completed"
    },
    "tags": []
   },
   "outputs": [],
   "source": [
    "train_df.drop(['Fare_band','Fare','Name','PassengerId'], axis = 1, inplace = True)"
   ]
  },
  {
   "cell_type": "code",
   "execution_count": 21,
   "id": "6f72b6a6",
   "metadata": {
    "execution": {
     "iopub.execute_input": "2022-05-23T23:30:15.141801Z",
     "iopub.status.busy": "2022-05-23T23:30:15.141120Z",
     "iopub.status.idle": "2022-05-23T23:30:15.145752Z",
     "shell.execute_reply": "2022-05-23T23:30:15.145246Z"
    },
    "papermill": {
     "duration": 0.108689,
     "end_time": "2022-05-23T23:30:15.147708",
     "exception": false,
     "start_time": "2022-05-23T23:30:15.039019",
     "status": "completed"
    },
    "tags": []
   },
   "outputs": [],
   "source": [
    "test_df.drop(['Fair_band','Fare','Name','PassengerId'], axis = 1, inplace = True)"
   ]
  },
  {
   "cell_type": "code",
   "execution_count": 22,
   "id": "0bcf1ab4",
   "metadata": {
    "execution": {
     "iopub.execute_input": "2022-05-23T23:30:15.352711Z",
     "iopub.status.busy": "2022-05-23T23:30:15.352240Z",
     "iopub.status.idle": "2022-05-23T23:30:15.364593Z",
     "shell.execute_reply": "2022-05-23T23:30:15.363966Z"
    },
    "papermill": {
     "duration": 0.11742,
     "end_time": "2022-05-23T23:30:15.366260",
     "exception": false,
     "start_time": "2022-05-23T23:30:15.248840",
     "status": "completed"
    },
    "tags": []
   },
   "outputs": [
    {
     "data": {
      "text/html": [
       "<div>\n",
       "<style scoped>\n",
       "    .dataframe tbody tr th:only-of-type {\n",
       "        vertical-align: middle;\n",
       "    }\n",
       "\n",
       "    .dataframe tbody tr th {\n",
       "        vertical-align: top;\n",
       "    }\n",
       "\n",
       "    .dataframe thead th {\n",
       "        text-align: right;\n",
       "    }\n",
       "</style>\n",
       "<table border=\"1\" class=\"dataframe\">\n",
       "  <thead>\n",
       "    <tr style=\"text-align: right;\">\n",
       "      <th></th>\n",
       "      <th>Survived</th>\n",
       "      <th>Pclass</th>\n",
       "      <th>Sex</th>\n",
       "      <th>Age</th>\n",
       "      <th>SibSp</th>\n",
       "      <th>Parch</th>\n",
       "      <th>Ticket</th>\n",
       "      <th>Cabin</th>\n",
       "      <th>Embarked</th>\n",
       "      <th>Fare_category</th>\n",
       "    </tr>\n",
       "  </thead>\n",
       "  <tbody>\n",
       "    <tr>\n",
       "      <th>0</th>\n",
       "      <td>0</td>\n",
       "      <td>3</td>\n",
       "      <td>male</td>\n",
       "      <td>22.0</td>\n",
       "      <td>1</td>\n",
       "      <td>0</td>\n",
       "      <td>A/5 21171</td>\n",
       "      <td>NaN</td>\n",
       "      <td>S</td>\n",
       "      <td>low</td>\n",
       "    </tr>\n",
       "    <tr>\n",
       "      <th>1</th>\n",
       "      <td>1</td>\n",
       "      <td>1</td>\n",
       "      <td>female</td>\n",
       "      <td>38.0</td>\n",
       "      <td>1</td>\n",
       "      <td>0</td>\n",
       "      <td>PC 17599</td>\n",
       "      <td>C85</td>\n",
       "      <td>C</td>\n",
       "      <td>low</td>\n",
       "    </tr>\n",
       "    <tr>\n",
       "      <th>2</th>\n",
       "      <td>1</td>\n",
       "      <td>3</td>\n",
       "      <td>female</td>\n",
       "      <td>26.0</td>\n",
       "      <td>0</td>\n",
       "      <td>0</td>\n",
       "      <td>STON/O2. 3101282</td>\n",
       "      <td>NaN</td>\n",
       "      <td>S</td>\n",
       "      <td>low</td>\n",
       "    </tr>\n",
       "    <tr>\n",
       "      <th>3</th>\n",
       "      <td>1</td>\n",
       "      <td>1</td>\n",
       "      <td>female</td>\n",
       "      <td>35.0</td>\n",
       "      <td>1</td>\n",
       "      <td>0</td>\n",
       "      <td>113803</td>\n",
       "      <td>C123</td>\n",
       "      <td>S</td>\n",
       "      <td>low</td>\n",
       "    </tr>\n",
       "    <tr>\n",
       "      <th>4</th>\n",
       "      <td>0</td>\n",
       "      <td>3</td>\n",
       "      <td>male</td>\n",
       "      <td>35.0</td>\n",
       "      <td>0</td>\n",
       "      <td>0</td>\n",
       "      <td>373450</td>\n",
       "      <td>NaN</td>\n",
       "      <td>S</td>\n",
       "      <td>low</td>\n",
       "    </tr>\n",
       "  </tbody>\n",
       "</table>\n",
       "</div>"
      ],
      "text/plain": [
       "   Survived  Pclass     Sex   Age  SibSp  Parch            Ticket Cabin  \\\n",
       "0         0       3    male  22.0      1      0         A/5 21171   NaN   \n",
       "1         1       1  female  38.0      1      0          PC 17599   C85   \n",
       "2         1       3  female  26.0      0      0  STON/O2. 3101282   NaN   \n",
       "3         1       1  female  35.0      1      0            113803  C123   \n",
       "4         0       3    male  35.0      0      0            373450   NaN   \n",
       "\n",
       "  Embarked Fare_category  \n",
       "0        S           low  \n",
       "1        C           low  \n",
       "2        S           low  \n",
       "3        S           low  \n",
       "4        S           low  "
      ]
     },
     "execution_count": 22,
     "metadata": {},
     "output_type": "execute_result"
    }
   ],
   "source": [
    "test_df.head()"
   ]
  },
  {
   "cell_type": "code",
   "execution_count": 23,
   "id": "57cb631a",
   "metadata": {
    "execution": {
     "iopub.execute_input": "2022-05-23T23:30:15.502016Z",
     "iopub.status.busy": "2022-05-23T23:30:15.501766Z",
     "iopub.status.idle": "2022-05-23T23:30:15.515395Z",
     "shell.execute_reply": "2022-05-23T23:30:15.514795Z"
    },
    "papermill": {
     "duration": 0.083487,
     "end_time": "2022-05-23T23:30:15.517029",
     "exception": false,
     "start_time": "2022-05-23T23:30:15.433542",
     "status": "completed"
    },
    "tags": []
   },
   "outputs": [
    {
     "data": {
      "text/html": [
       "<div>\n",
       "<style scoped>\n",
       "    .dataframe tbody tr th:only-of-type {\n",
       "        vertical-align: middle;\n",
       "    }\n",
       "\n",
       "    .dataframe tbody tr th {\n",
       "        vertical-align: top;\n",
       "    }\n",
       "\n",
       "    .dataframe thead th {\n",
       "        text-align: right;\n",
       "    }\n",
       "</style>\n",
       "<table border=\"1\" class=\"dataframe\">\n",
       "  <thead>\n",
       "    <tr style=\"text-align: right;\">\n",
       "      <th></th>\n",
       "      <th>Survived</th>\n",
       "      <th>Pclass</th>\n",
       "      <th>Sex</th>\n",
       "      <th>Age</th>\n",
       "      <th>SibSp</th>\n",
       "      <th>Parch</th>\n",
       "      <th>Ticket</th>\n",
       "      <th>Cabin</th>\n",
       "      <th>Embarked</th>\n",
       "      <th>Fare_category</th>\n",
       "    </tr>\n",
       "  </thead>\n",
       "  <tbody>\n",
       "    <tr>\n",
       "      <th>0</th>\n",
       "      <td>0</td>\n",
       "      <td>3</td>\n",
       "      <td>male</td>\n",
       "      <td>22.0</td>\n",
       "      <td>1</td>\n",
       "      <td>0</td>\n",
       "      <td>A/5 21171</td>\n",
       "      <td>NaN</td>\n",
       "      <td>S</td>\n",
       "      <td>low</td>\n",
       "    </tr>\n",
       "    <tr>\n",
       "      <th>1</th>\n",
       "      <td>1</td>\n",
       "      <td>1</td>\n",
       "      <td>female</td>\n",
       "      <td>38.0</td>\n",
       "      <td>1</td>\n",
       "      <td>0</td>\n",
       "      <td>PC 17599</td>\n",
       "      <td>C85</td>\n",
       "      <td>C</td>\n",
       "      <td>low</td>\n",
       "    </tr>\n",
       "    <tr>\n",
       "      <th>2</th>\n",
       "      <td>1</td>\n",
       "      <td>3</td>\n",
       "      <td>female</td>\n",
       "      <td>26.0</td>\n",
       "      <td>0</td>\n",
       "      <td>0</td>\n",
       "      <td>STON/O2. 3101282</td>\n",
       "      <td>NaN</td>\n",
       "      <td>S</td>\n",
       "      <td>low</td>\n",
       "    </tr>\n",
       "    <tr>\n",
       "      <th>3</th>\n",
       "      <td>1</td>\n",
       "      <td>1</td>\n",
       "      <td>female</td>\n",
       "      <td>35.0</td>\n",
       "      <td>1</td>\n",
       "      <td>0</td>\n",
       "      <td>113803</td>\n",
       "      <td>C123</td>\n",
       "      <td>S</td>\n",
       "      <td>low</td>\n",
       "    </tr>\n",
       "    <tr>\n",
       "      <th>4</th>\n",
       "      <td>0</td>\n",
       "      <td>3</td>\n",
       "      <td>male</td>\n",
       "      <td>35.0</td>\n",
       "      <td>0</td>\n",
       "      <td>0</td>\n",
       "      <td>373450</td>\n",
       "      <td>NaN</td>\n",
       "      <td>S</td>\n",
       "      <td>low</td>\n",
       "    </tr>\n",
       "  </tbody>\n",
       "</table>\n",
       "</div>"
      ],
      "text/plain": [
       "   Survived  Pclass     Sex   Age  SibSp  Parch            Ticket Cabin  \\\n",
       "0         0       3    male  22.0      1      0         A/5 21171   NaN   \n",
       "1         1       1  female  38.0      1      0          PC 17599   C85   \n",
       "2         1       3  female  26.0      0      0  STON/O2. 3101282   NaN   \n",
       "3         1       1  female  35.0      1      0            113803  C123   \n",
       "4         0       3    male  35.0      0      0            373450   NaN   \n",
       "\n",
       "  Embarked Fare_category  \n",
       "0        S           low  \n",
       "1        C           low  \n",
       "2        S           low  \n",
       "3        S           low  \n",
       "4        S           low  "
      ]
     },
     "execution_count": 23,
     "metadata": {},
     "output_type": "execute_result"
    }
   ],
   "source": [
    "train_df.head()"
   ]
  },
  {
   "cell_type": "code",
   "execution_count": 24,
   "id": "b49aaf2c",
   "metadata": {
    "execution": {
     "iopub.execute_input": "2022-05-23T23:30:15.650265Z",
     "iopub.status.busy": "2022-05-23T23:30:15.649950Z",
     "iopub.status.idle": "2022-05-23T23:30:15.658079Z",
     "shell.execute_reply": "2022-05-23T23:30:15.657536Z"
    },
    "papermill": {
     "duration": 0.076366,
     "end_time": "2022-05-23T23:30:15.659582",
     "exception": false,
     "start_time": "2022-05-23T23:30:15.583216",
     "status": "completed"
    },
    "tags": []
   },
   "outputs": [
    {
     "data": {
      "text/plain": [
       "Survived         0.000000\n",
       "Pclass           0.000000\n",
       "Sex              0.000000\n",
       "Age              0.000000\n",
       "SibSp            0.000000\n",
       "Parch            0.000000\n",
       "Ticket           0.000000\n",
       "Cabin            0.771044\n",
       "Embarked         0.002245\n",
       "Fare_category    0.000000\n",
       "dtype: float64"
      ]
     },
     "execution_count": 24,
     "metadata": {},
     "output_type": "execute_result"
    }
   ],
   "source": [
    "train_df.isnull().mean()"
   ]
  },
  {
   "cell_type": "code",
   "execution_count": 25,
   "id": "53c4f559",
   "metadata": {
    "execution": {
     "iopub.execute_input": "2022-05-23T23:30:15.794453Z",
     "iopub.status.busy": "2022-05-23T23:30:15.794201Z",
     "iopub.status.idle": "2022-05-23T23:30:15.799546Z",
     "shell.execute_reply": "2022-05-23T23:30:15.798940Z"
    },
    "papermill": {
     "duration": 0.074479,
     "end_time": "2022-05-23T23:30:15.801369",
     "exception": false,
     "start_time": "2022-05-23T23:30:15.726890",
     "status": "completed"
    },
    "tags": []
   },
   "outputs": [],
   "source": [
    "train_df.drop('Cabin',axis = 1, inplace = True)\n",
    "test_df.drop('Cabin',axis = 1, inplace = True)"
   ]
  },
  {
   "cell_type": "code",
   "execution_count": 26,
   "id": "f8a81d5c",
   "metadata": {
    "execution": {
     "iopub.execute_input": "2022-05-23T23:30:15.937715Z",
     "iopub.status.busy": "2022-05-23T23:30:15.937211Z",
     "iopub.status.idle": "2022-05-23T23:30:15.943084Z",
     "shell.execute_reply": "2022-05-23T23:30:15.942430Z"
    },
    "papermill": {
     "duration": 0.076387,
     "end_time": "2022-05-23T23:30:15.944838",
     "exception": false,
     "start_time": "2022-05-23T23:30:15.868451",
     "status": "completed"
    },
    "tags": []
   },
   "outputs": [],
   "source": [
    "train_df.drop('Ticket',axis = 1, inplace = True)\n",
    "test_df.drop('Ticket',axis = 1, inplace = True)"
   ]
  },
  {
   "cell_type": "code",
   "execution_count": 27,
   "id": "9f88838b",
   "metadata": {
    "execution": {
     "iopub.execute_input": "2022-05-23T23:30:16.078959Z",
     "iopub.status.busy": "2022-05-23T23:30:16.078641Z",
     "iopub.status.idle": "2022-05-23T23:30:16.208127Z",
     "shell.execute_reply": "2022-05-23T23:30:16.207490Z"
    },
    "papermill": {
     "duration": 0.198133,
     "end_time": "2022-05-23T23:30:16.210005",
     "exception": false,
     "start_time": "2022-05-23T23:30:16.011872",
     "status": "completed"
    },
    "tags": []
   },
   "outputs": [
    {
     "data": {
      "text/plain": [
       "<AxesSubplot:>"
      ]
     },
     "execution_count": 27,
     "metadata": {},
     "output_type": "execute_result"
    },
    {
     "data": {
      "image/png": "[encoded data removed]",
      "text/plain": [
       "<Figure size 432x288 with 1 Axes>"
      ]
     },
     "metadata": {
      "needs_background": "light"
     },
     "output_type": "display_data"
    }
   ],
   "source": [
    "sns.boxplot(data = train_df['Age'])"
   ]
  },
  {
   "cell_type": "code",
   "execution_count": null,
   "id": "b98fa336",
   "metadata": {
    "papermill": {
     "duration": 0.066997,
     "end_time": "2022-05-23T23:30:16.347863",
     "exception": false,
     "start_time": "2022-05-23T23:30:16.280866",
     "status": "completed"
    },
    "tags": []
   },
   "outputs": [],
   "source": []
  },
  {
   "cell_type": "code",
   "execution_count": 28,
   "id": "1e998eb5",
   "metadata": {
    "execution": {
     "iopub.execute_input": "2022-05-23T23:30:16.485564Z",
     "iopub.status.busy": "2022-05-23T23:30:16.484624Z",
     "iopub.status.idle": "2022-05-23T23:30:16.493227Z",
     "shell.execute_reply": "2022-05-23T23:30:16.492709Z"
    },
    "papermill": {
     "duration": 0.078662,
     "end_time": "2022-05-23T23:30:16.494806",
     "exception": false,
     "start_time": "2022-05-23T23:30:16.416144",
     "status": "completed"
    },
    "tags": []
   },
   "outputs": [],
   "source": [
    "bins = pd.IntervalIndex.from_tuples([(0,19), (19, 40), (40,59),(59,80)])\n",
    "x2 = pd.cut(train_df['Age'].to_list(), bins)\n",
    "train_df['Age_band'] = x2\n",
    "x2.categories = ['teenage','young','adults','senior']\n",
    "train_df['Age_Category'] = x2\n"
   ]
  },
  {
   "cell_type": "code",
   "execution_count": 29,
   "id": "5d5191f3",
   "metadata": {
    "execution": {
     "iopub.execute_input": "2022-05-23T23:30:16.632493Z",
     "iopub.status.busy": "2022-05-23T23:30:16.632230Z",
     "iopub.status.idle": "2022-05-23T23:30:16.640297Z",
     "shell.execute_reply": "2022-05-23T23:30:16.639621Z"
    },
    "papermill": {
     "duration": 0.077147,
     "end_time": "2022-05-23T23:30:16.641888",
     "exception": false,
     "start_time": "2022-05-23T23:30:16.564741",
     "status": "completed"
    },
    "tags": []
   },
   "outputs": [],
   "source": [
    "bins = pd.IntervalIndex.from_tuples([(0,19), (19, 40), (40,59),(59,80)])\n",
    "x2 = pd.cut(test_df['Age'].to_list(), bins)\n",
    "test_df['Age_band'] = x2\n",
    "x2.categories = ['teenage','young','adults','senior']\n",
    "test_df['Age_Category'] = x2"
   ]
  },
  {
   "cell_type": "code",
   "execution_count": 30,
   "id": "e2c3ba8b",
   "metadata": {
    "execution": {
     "iopub.execute_input": "2022-05-23T23:30:16.778493Z",
     "iopub.status.busy": "2022-05-23T23:30:16.778242Z",
     "iopub.status.idle": "2022-05-23T23:30:16.783172Z",
     "shell.execute_reply": "2022-05-23T23:30:16.782480Z"
    },
    "papermill": {
     "duration": 0.075171,
     "end_time": "2022-05-23T23:30:16.785210",
     "exception": false,
     "start_time": "2022-05-23T23:30:16.710039",
     "status": "completed"
    },
    "tags": []
   },
   "outputs": [],
   "source": [
    "# Now we can drop Age.\n",
    "train_df.drop('Age',axis = 1,inplace = True)"
   ]
  },
  {
   "cell_type": "code",
   "execution_count": 31,
   "id": "d51b75c1",
   "metadata": {
    "execution": {
     "iopub.execute_input": "2022-05-23T23:30:16.923723Z",
     "iopub.status.busy": "2022-05-23T23:30:16.923141Z",
     "iopub.status.idle": "2022-05-23T23:30:16.929420Z",
     "shell.execute_reply": "2022-05-23T23:30:16.928868Z"
    },
    "papermill": {
     "duration": 0.077244,
     "end_time": "2022-05-23T23:30:16.931430",
     "exception": false,
     "start_time": "2022-05-23T23:30:16.854186",
     "status": "completed"
    },
    "tags": []
   },
   "outputs": [],
   "source": [
    "train_df.drop('Age_band',axis = 1, inplace = True)\n",
    "test_df.drop(['Age','Age_band'], axis = 1, inplace = True)"
   ]
  },
  {
   "cell_type": "code",
   "execution_count": 32,
   "id": "b1868ea9",
   "metadata": {
    "execution": {
     "iopub.execute_input": "2022-05-23T23:30:17.071634Z",
     "iopub.status.busy": "2022-05-23T23:30:17.071132Z",
     "iopub.status.idle": "2022-05-23T23:30:17.084725Z",
     "shell.execute_reply": "2022-05-23T23:30:17.083801Z"
    },
    "papermill": {
     "duration": 0.084762,
     "end_time": "2022-05-23T23:30:17.086638",
     "exception": false,
     "start_time": "2022-05-23T23:30:17.001876",
     "status": "completed"
    },
    "tags": []
   },
   "outputs": [
    {
     "data": {
      "text/html": [
       "<div>\n",
       "<style scoped>\n",
       "    .dataframe tbody tr th:only-of-type {\n",
       "        vertical-align: middle;\n",
       "    }\n",
       "\n",
       "    .dataframe tbody tr th {\n",
       "        vertical-align: top;\n",
       "    }\n",
       "\n",
       "    .dataframe thead th {\n",
       "        text-align: right;\n",
       "    }\n",
       "</style>\n",
       "<table border=\"1\" class=\"dataframe\">\n",
       "  <thead>\n",
       "    <tr style=\"text-align: right;\">\n",
       "      <th></th>\n",
       "      <th>Survived</th>\n",
       "      <th>Pclass</th>\n",
       "      <th>Sex</th>\n",
       "      <th>SibSp</th>\n",
       "      <th>Parch</th>\n",
       "      <th>Embarked</th>\n",
       "      <th>Fare_category</th>\n",
       "      <th>Age_Category</th>\n",
       "    </tr>\n",
       "  </thead>\n",
       "  <tbody>\n",
       "    <tr>\n",
       "      <th>0</th>\n",
       "      <td>0</td>\n",
       "      <td>3</td>\n",
       "      <td>male</td>\n",
       "      <td>1</td>\n",
       "      <td>0</td>\n",
       "      <td>S</td>\n",
       "      <td>low</td>\n",
       "      <td>young</td>\n",
       "    </tr>\n",
       "    <tr>\n",
       "      <th>1</th>\n",
       "      <td>1</td>\n",
       "      <td>1</td>\n",
       "      <td>female</td>\n",
       "      <td>1</td>\n",
       "      <td>0</td>\n",
       "      <td>C</td>\n",
       "      <td>low</td>\n",
       "      <td>young</td>\n",
       "    </tr>\n",
       "    <tr>\n",
       "      <th>2</th>\n",
       "      <td>1</td>\n",
       "      <td>3</td>\n",
       "      <td>female</td>\n",
       "      <td>0</td>\n",
       "      <td>0</td>\n",
       "      <td>S</td>\n",
       "      <td>low</td>\n",
       "      <td>young</td>\n",
       "    </tr>\n",
       "    <tr>\n",
       "      <th>3</th>\n",
       "      <td>1</td>\n",
       "      <td>1</td>\n",
       "      <td>female</td>\n",
       "      <td>1</td>\n",
       "      <td>0</td>\n",
       "      <td>S</td>\n",
       "      <td>low</td>\n",
       "      <td>young</td>\n",
       "    </tr>\n",
       "    <tr>\n",
       "      <th>4</th>\n",
       "      <td>0</td>\n",
       "      <td>3</td>\n",
       "      <td>male</td>\n",
       "      <td>0</td>\n",
       "      <td>0</td>\n",
       "      <td>S</td>\n",
       "      <td>low</td>\n",
       "      <td>young</td>\n",
       "    </tr>\n",
       "  </tbody>\n",
       "</table>\n",
       "</div>"
      ],
      "text/plain": [
       "   Survived  Pclass     Sex  SibSp  Parch Embarked Fare_category Age_Category\n",
       "0         0       3    male      1      0        S           low        young\n",
       "1         1       1  female      1      0        C           low        young\n",
       "2         1       3  female      0      0        S           low        young\n",
       "3         1       1  female      1      0        S           low        young\n",
       "4         0       3    male      0      0        S           low        young"
      ]
     },
     "execution_count": 32,
     "metadata": {},
     "output_type": "execute_result"
    }
   ],
   "source": [
    "train_df.head()"
   ]
  },
  {
   "cell_type": "markdown",
   "id": "d479e655",
   "metadata": {
    "papermill": {
     "duration": 0.06943,
     "end_time": "2022-05-23T23:30:17.225609",
     "exception": false,
     "start_time": "2022-05-23T23:30:17.156179",
     "status": "completed"
    },
    "tags": []
   },
   "source": [
    "# Train and Test Split before doing feature enginnering and later on we can check our score also."
   ]
  },
  {
   "cell_type": "code",
   "execution_count": 33,
   "id": "05376ff9",
   "metadata": {
    "execution": {
     "iopub.execute_input": "2022-05-23T23:30:17.368437Z",
     "iopub.status.busy": "2022-05-23T23:30:17.368132Z",
     "iopub.status.idle": "2022-05-23T23:30:17.373514Z",
     "shell.execute_reply": "2022-05-23T23:30:17.372441Z"
    },
    "papermill": {
     "duration": 0.079433,
     "end_time": "2022-05-23T23:30:17.375702",
     "exception": false,
     "start_time": "2022-05-23T23:30:17.296269",
     "status": "completed"
    },
    "tags": []
   },
   "outputs": [],
   "source": [
    "X = train_df.iloc[:,1::]\n",
    "y = train_df['Survived']"
   ]
  },
  {
   "cell_type": "code",
   "execution_count": 34,
   "id": "c8279287",
   "metadata": {
    "execution": {
     "iopub.execute_input": "2022-05-23T23:30:17.515240Z",
     "iopub.status.busy": "2022-05-23T23:30:17.514645Z",
     "iopub.status.idle": "2022-05-23T23:30:17.751517Z",
     "shell.execute_reply": "2022-05-23T23:30:17.750832Z"
    },
    "papermill": {
     "duration": 0.309272,
     "end_time": "2022-05-23T23:30:17.753600",
     "exception": false,
     "start_time": "2022-05-23T23:30:17.444328",
     "status": "completed"
    },
    "tags": []
   },
   "outputs": [],
   "source": [
    "from sklearn.model_selection import train_test_split\n",
    "X_train, X_test, y_train, y_test = train_test_split(X,y, test_size = 0.2, random_state = 0)"
   ]
  },
  {
   "cell_type": "code",
   "execution_count": 35,
   "id": "28825763",
   "metadata": {
    "execution": {
     "iopub.execute_input": "2022-05-23T23:30:17.891733Z",
     "iopub.status.busy": "2022-05-23T23:30:17.891375Z",
     "iopub.status.idle": "2022-05-23T23:30:17.905716Z",
     "shell.execute_reply": "2022-05-23T23:30:17.904816Z"
    },
    "papermill": {
     "duration": 0.084961,
     "end_time": "2022-05-23T23:30:17.907416",
     "exception": false,
     "start_time": "2022-05-23T23:30:17.822455",
     "status": "completed"
    },
    "tags": []
   },
   "outputs": [
    {
     "data": {
      "text/html": [
       "<div>\n",
       "<style scoped>\n",
       "    .dataframe tbody tr th:only-of-type {\n",
       "        vertical-align: middle;\n",
       "    }\n",
       "\n",
       "    .dataframe tbody tr th {\n",
       "        vertical-align: top;\n",
       "    }\n",
       "\n",
       "    .dataframe thead th {\n",
       "        text-align: right;\n",
       "    }\n",
       "</style>\n",
       "<table border=\"1\" class=\"dataframe\">\n",
       "  <thead>\n",
       "    <tr style=\"text-align: right;\">\n",
       "      <th></th>\n",
       "      <th>Pclass</th>\n",
       "      <th>Sex</th>\n",
       "      <th>SibSp</th>\n",
       "      <th>Parch</th>\n",
       "      <th>Embarked</th>\n",
       "      <th>Fare_category</th>\n",
       "      <th>Age_Category</th>\n",
       "    </tr>\n",
       "  </thead>\n",
       "  <tbody>\n",
       "    <tr>\n",
       "      <th>140</th>\n",
       "      <td>3</td>\n",
       "      <td>female</td>\n",
       "      <td>0</td>\n",
       "      <td>2</td>\n",
       "      <td>C</td>\n",
       "      <td>low</td>\n",
       "      <td>young</td>\n",
       "    </tr>\n",
       "    <tr>\n",
       "      <th>439</th>\n",
       "      <td>2</td>\n",
       "      <td>male</td>\n",
       "      <td>0</td>\n",
       "      <td>0</td>\n",
       "      <td>S</td>\n",
       "      <td>low</td>\n",
       "      <td>young</td>\n",
       "    </tr>\n",
       "    <tr>\n",
       "      <th>817</th>\n",
       "      <td>2</td>\n",
       "      <td>male</td>\n",
       "      <td>1</td>\n",
       "      <td>1</td>\n",
       "      <td>C</td>\n",
       "      <td>low</td>\n",
       "      <td>young</td>\n",
       "    </tr>\n",
       "    <tr>\n",
       "      <th>378</th>\n",
       "      <td>3</td>\n",
       "      <td>male</td>\n",
       "      <td>0</td>\n",
       "      <td>0</td>\n",
       "      <td>C</td>\n",
       "      <td>low</td>\n",
       "      <td>young</td>\n",
       "    </tr>\n",
       "    <tr>\n",
       "      <th>491</th>\n",
       "      <td>3</td>\n",
       "      <td>male</td>\n",
       "      <td>0</td>\n",
       "      <td>0</td>\n",
       "      <td>S</td>\n",
       "      <td>low</td>\n",
       "      <td>young</td>\n",
       "    </tr>\n",
       "  </tbody>\n",
       "</table>\n",
       "</div>"
      ],
      "text/plain": [
       "     Pclass     Sex  SibSp  Parch Embarked Fare_category Age_Category\n",
       "140       3  female      0      2        C           low        young\n",
       "439       2    male      0      0        S           low        young\n",
       "817       2    male      1      1        C           low        young\n",
       "378       3    male      0      0        C           low        young\n",
       "491       3    male      0      0        S           low        young"
      ]
     },
     "execution_count": 35,
     "metadata": {},
     "output_type": "execute_result"
    }
   ],
   "source": [
    "X_train.head()"
   ]
  },
  {
   "cell_type": "code",
   "execution_count": 36,
   "id": "f7e47330",
   "metadata": {
    "execution": {
     "iopub.execute_input": "2022-05-23T23:30:18.069116Z",
     "iopub.status.busy": "2022-05-23T23:30:18.068600Z",
     "iopub.status.idle": "2022-05-23T23:30:18.077758Z",
     "shell.execute_reply": "2022-05-23T23:30:18.076818Z"
    },
    "papermill": {
     "duration": 0.082686,
     "end_time": "2022-05-23T23:30:18.080030",
     "exception": false,
     "start_time": "2022-05-23T23:30:17.997344",
     "status": "completed"
    },
    "tags": []
   },
   "outputs": [],
   "source": [
    "X_train['Sex'] = X_train.Sex.map({'female':1,'male':2})\n",
    "X_test['Sex'] = X_test.Sex.map({'female':1,'male':2})"
   ]
  },
  {
   "cell_type": "code",
   "execution_count": 37,
   "id": "adafadde",
   "metadata": {
    "execution": {
     "iopub.execute_input": "2022-05-23T23:30:18.223350Z",
     "iopub.status.busy": "2022-05-23T23:30:18.222499Z",
     "iopub.status.idle": "2022-05-23T23:30:18.229523Z",
     "shell.execute_reply": "2022-05-23T23:30:18.228538Z"
    },
    "papermill": {
     "duration": 0.080733,
     "end_time": "2022-05-23T23:30:18.231206",
     "exception": false,
     "start_time": "2022-05-23T23:30:18.150473",
     "status": "completed"
    },
    "tags": []
   },
   "outputs": [
    {
     "data": {
      "text/plain": [
       "array(['C', 'S', 'Q', nan], dtype=object)"
      ]
     },
     "execution_count": 37,
     "metadata": {},
     "output_type": "execute_result"
    }
   ],
   "source": [
    "X_train['Embarked'].unique()"
   ]
  },
  {
   "cell_type": "code",
   "execution_count": 38,
   "id": "def6f631",
   "metadata": {
    "execution": {
     "iopub.execute_input": "2022-05-23T23:30:18.373941Z",
     "iopub.status.busy": "2022-05-23T23:30:18.373419Z",
     "iopub.status.idle": "2022-05-23T23:30:18.380557Z",
     "shell.execute_reply": "2022-05-23T23:30:18.379691Z"
    },
    "papermill": {
     "duration": 0.079825,
     "end_time": "2022-05-23T23:30:18.382750",
     "exception": false,
     "start_time": "2022-05-23T23:30:18.302925",
     "status": "completed"
    },
    "tags": []
   },
   "outputs": [],
   "source": [
    "mode = X_train.Embarked.mode()[0]\n",
    "X_train.Embarked.fillna(mode, inplace = True)\n",
    "mode1 = X_test.Embarked.mode()[0]\n",
    "X_test.Embarked.fillna(mode1, inplace = True)"
   ]
  },
  {
   "cell_type": "code",
   "execution_count": 39,
   "id": "58219a38",
   "metadata": {
    "execution": {
     "iopub.execute_input": "2022-05-23T23:30:18.526297Z",
     "iopub.status.busy": "2022-05-23T23:30:18.525792Z",
     "iopub.status.idle": "2022-05-23T23:30:18.533007Z",
     "shell.execute_reply": "2022-05-23T23:30:18.532081Z"
    },
    "papermill": {
     "duration": 0.08157,
     "end_time": "2022-05-23T23:30:18.535043",
     "exception": false,
     "start_time": "2022-05-23T23:30:18.453473",
     "status": "completed"
    },
    "tags": []
   },
   "outputs": [],
   "source": [
    "X_train['Embarked'] = X_train.Embarked.map({'C': 1, 'S': 2, 'Q': 3})\n",
    "X_test['Embarked'] = X_test.Embarked.map({'C': 1, 'S': 2, 'Q': 3})"
   ]
  },
  {
   "cell_type": "code",
   "execution_count": 40,
   "id": "e74db52b",
   "metadata": {
    "execution": {
     "iopub.execute_input": "2022-05-23T23:30:18.678636Z",
     "iopub.status.busy": "2022-05-23T23:30:18.678125Z",
     "iopub.status.idle": "2022-05-23T23:30:18.686152Z",
     "shell.execute_reply": "2022-05-23T23:30:18.685515Z"
    },
    "papermill": {
     "duration": 0.080646,
     "end_time": "2022-05-23T23:30:18.687744",
     "exception": false,
     "start_time": "2022-05-23T23:30:18.607098",
     "status": "completed"
    },
    "scrolled": true,
    "tags": []
   },
   "outputs": [
    {
     "data": {
      "text/plain": [
       "low             684\n",
       "middle           21\n",
       "upper_middle      4\n",
       "high              3\n",
       "Name: Fare_category, dtype: int64"
      ]
     },
     "execution_count": 40,
     "metadata": {},
     "output_type": "execute_result"
    }
   ],
   "source": [
    "X_train['Fare_category'].value_counts()"
   ]
  },
  {
   "cell_type": "code",
   "execution_count": 41,
   "id": "c95d737e",
   "metadata": {
    "execution": {
     "iopub.execute_input": "2022-05-23T23:30:18.829890Z",
     "iopub.status.busy": "2022-05-23T23:30:18.829370Z",
     "iopub.status.idle": "2022-05-23T23:30:18.838293Z",
     "shell.execute_reply": "2022-05-23T23:30:18.837094Z"
    },
    "papermill": {
     "duration": 0.082436,
     "end_time": "2022-05-23T23:30:18.840791",
     "exception": false,
     "start_time": "2022-05-23T23:30:18.758355",
     "status": "completed"
    },
    "tags": []
   },
   "outputs": [
    {
     "data": {
      "text/plain": [
       "young      462\n",
       "teenage    130\n",
       "adults     100\n",
       "senior      20\n",
       "Name: Age_Category, dtype: int64"
      ]
     },
     "execution_count": 41,
     "metadata": {},
     "output_type": "execute_result"
    }
   ],
   "source": [
    "X_train['Age_Category'].value_counts()"
   ]
  },
  {
   "cell_type": "code",
   "execution_count": 42,
   "id": "024fb817",
   "metadata": {
    "execution": {
     "iopub.execute_input": "2022-05-23T23:30:18.983345Z",
     "iopub.status.busy": "2022-05-23T23:30:18.982860Z",
     "iopub.status.idle": "2022-05-23T23:30:18.988255Z",
     "shell.execute_reply": "2022-05-23T23:30:18.987711Z"
    },
    "papermill": {
     "duration": 0.078883,
     "end_time": "2022-05-23T23:30:18.990241",
     "exception": false,
     "start_time": "2022-05-23T23:30:18.911358",
     "status": "completed"
    },
    "tags": []
   },
   "outputs": [],
   "source": [
    "X_train['Age_Category'] = X_train['Age_Category'].map({'young':0,'teenage' :1,'adults': 2,'senior':3})"
   ]
  },
  {
   "cell_type": "code",
   "execution_count": 43,
   "id": "4202ded0",
   "metadata": {
    "execution": {
     "iopub.execute_input": "2022-05-23T23:30:19.135911Z",
     "iopub.status.busy": "2022-05-23T23:30:19.135556Z",
     "iopub.status.idle": "2022-05-23T23:30:19.142379Z",
     "shell.execute_reply": "2022-05-23T23:30:19.141607Z"
    },
    "papermill": {
     "duration": 0.082599,
     "end_time": "2022-05-23T23:30:19.144526",
     "exception": false,
     "start_time": "2022-05-23T23:30:19.061927",
     "status": "completed"
    },
    "tags": []
   },
   "outputs": [],
   "source": [
    "X_test['Age_Category'] = X_test['Age_Category'].map({'young':0,'teenage' :1,'adults': 2,'senior':3})"
   ]
  },
  {
   "cell_type": "code",
   "execution_count": 44,
   "id": "c6dd99d2",
   "metadata": {
    "execution": {
     "iopub.execute_input": "2022-05-23T23:30:19.371705Z",
     "iopub.status.busy": "2022-05-23T23:30:19.371252Z",
     "iopub.status.idle": "2022-05-23T23:30:19.385010Z",
     "shell.execute_reply": "2022-05-23T23:30:19.384270Z"
    },
    "papermill": {
     "duration": 0.130349,
     "end_time": "2022-05-23T23:30:19.387178",
     "exception": false,
     "start_time": "2022-05-23T23:30:19.256829",
     "status": "completed"
    },
    "tags": []
   },
   "outputs": [
    {
     "data": {
      "text/html": [
       "<div>\n",
       "<style scoped>\n",
       "    .dataframe tbody tr th:only-of-type {\n",
       "        vertical-align: middle;\n",
       "    }\n",
       "\n",
       "    .dataframe tbody tr th {\n",
       "        vertical-align: top;\n",
       "    }\n",
       "\n",
       "    .dataframe thead th {\n",
       "        text-align: right;\n",
       "    }\n",
       "</style>\n",
       "<table border=\"1\" class=\"dataframe\">\n",
       "  <thead>\n",
       "    <tr style=\"text-align: right;\">\n",
       "      <th></th>\n",
       "      <th>Pclass</th>\n",
       "      <th>Sex</th>\n",
       "      <th>SibSp</th>\n",
       "      <th>Parch</th>\n",
       "      <th>Embarked</th>\n",
       "      <th>Fare_category</th>\n",
       "      <th>Age_Category</th>\n",
       "    </tr>\n",
       "  </thead>\n",
       "  <tbody>\n",
       "    <tr>\n",
       "      <th>140</th>\n",
       "      <td>3</td>\n",
       "      <td>1</td>\n",
       "      <td>0</td>\n",
       "      <td>2</td>\n",
       "      <td>1</td>\n",
       "      <td>low</td>\n",
       "      <td>0</td>\n",
       "    </tr>\n",
       "    <tr>\n",
       "      <th>439</th>\n",
       "      <td>2</td>\n",
       "      <td>2</td>\n",
       "      <td>0</td>\n",
       "      <td>0</td>\n",
       "      <td>2</td>\n",
       "      <td>low</td>\n",
       "      <td>0</td>\n",
       "    </tr>\n",
       "    <tr>\n",
       "      <th>817</th>\n",
       "      <td>2</td>\n",
       "      <td>2</td>\n",
       "      <td>1</td>\n",
       "      <td>1</td>\n",
       "      <td>1</td>\n",
       "      <td>low</td>\n",
       "      <td>0</td>\n",
       "    </tr>\n",
       "    <tr>\n",
       "      <th>378</th>\n",
       "      <td>3</td>\n",
       "      <td>2</td>\n",
       "      <td>0</td>\n",
       "      <td>0</td>\n",
       "      <td>1</td>\n",
       "      <td>low</td>\n",
       "      <td>0</td>\n",
       "    </tr>\n",
       "    <tr>\n",
       "      <th>491</th>\n",
       "      <td>3</td>\n",
       "      <td>2</td>\n",
       "      <td>0</td>\n",
       "      <td>0</td>\n",
       "      <td>2</td>\n",
       "      <td>low</td>\n",
       "      <td>0</td>\n",
       "    </tr>\n",
       "  </tbody>\n",
       "</table>\n",
       "</div>"
      ],
      "text/plain": [
       "     Pclass  Sex  SibSp  Parch  Embarked Fare_category Age_Category\n",
       "140       3    1      0      2         1           low            0\n",
       "439       2    2      0      0         2           low            0\n",
       "817       2    2      1      1         1           low            0\n",
       "378       3    2      0      0         1           low            0\n",
       "491       3    2      0      0         2           low            0"
      ]
     },
     "execution_count": 44,
     "metadata": {},
     "output_type": "execute_result"
    }
   ],
   "source": [
    "X_train.head()"
   ]
  },
  {
   "cell_type": "code",
   "execution_count": 45,
   "id": "0813f860",
   "metadata": {
    "execution": {
     "iopub.execute_input": "2022-05-23T23:30:19.614664Z",
     "iopub.status.busy": "2022-05-23T23:30:19.614118Z",
     "iopub.status.idle": "2022-05-23T23:30:19.626395Z",
     "shell.execute_reply": "2022-05-23T23:30:19.625629Z"
    },
    "papermill": {
     "duration": 0.128138,
     "end_time": "2022-05-23T23:30:19.628361",
     "exception": false,
     "start_time": "2022-05-23T23:30:19.500223",
     "status": "completed"
    },
    "tags": []
   },
   "outputs": [
    {
     "data": {
      "text/html": [
       "<div>\n",
       "<style scoped>\n",
       "    .dataframe tbody tr th:only-of-type {\n",
       "        vertical-align: middle;\n",
       "    }\n",
       "\n",
       "    .dataframe tbody tr th {\n",
       "        vertical-align: top;\n",
       "    }\n",
       "\n",
       "    .dataframe thead th {\n",
       "        text-align: right;\n",
       "    }\n",
       "</style>\n",
       "<table border=\"1\" class=\"dataframe\">\n",
       "  <thead>\n",
       "    <tr style=\"text-align: right;\">\n",
       "      <th></th>\n",
       "      <th>Pclass</th>\n",
       "      <th>Sex</th>\n",
       "      <th>SibSp</th>\n",
       "      <th>Parch</th>\n",
       "      <th>Embarked</th>\n",
       "      <th>Fare_category</th>\n",
       "      <th>Age_Category</th>\n",
       "    </tr>\n",
       "  </thead>\n",
       "  <tbody>\n",
       "    <tr>\n",
       "      <th>495</th>\n",
       "      <td>3</td>\n",
       "      <td>2</td>\n",
       "      <td>0</td>\n",
       "      <td>0</td>\n",
       "      <td>1</td>\n",
       "      <td>low</td>\n",
       "      <td>0</td>\n",
       "    </tr>\n",
       "    <tr>\n",
       "      <th>648</th>\n",
       "      <td>3</td>\n",
       "      <td>2</td>\n",
       "      <td>0</td>\n",
       "      <td>0</td>\n",
       "      <td>2</td>\n",
       "      <td>low</td>\n",
       "      <td>0</td>\n",
       "    </tr>\n",
       "    <tr>\n",
       "      <th>278</th>\n",
       "      <td>3</td>\n",
       "      <td>2</td>\n",
       "      <td>4</td>\n",
       "      <td>1</td>\n",
       "      <td>3</td>\n",
       "      <td>low</td>\n",
       "      <td>1</td>\n",
       "    </tr>\n",
       "    <tr>\n",
       "      <th>31</th>\n",
       "      <td>1</td>\n",
       "      <td>1</td>\n",
       "      <td>1</td>\n",
       "      <td>0</td>\n",
       "      <td>1</td>\n",
       "      <td>middle</td>\n",
       "      <td>0</td>\n",
       "    </tr>\n",
       "    <tr>\n",
       "      <th>255</th>\n",
       "      <td>3</td>\n",
       "      <td>1</td>\n",
       "      <td>0</td>\n",
       "      <td>2</td>\n",
       "      <td>1</td>\n",
       "      <td>low</td>\n",
       "      <td>0</td>\n",
       "    </tr>\n",
       "  </tbody>\n",
       "</table>\n",
       "</div>"
      ],
      "text/plain": [
       "     Pclass  Sex  SibSp  Parch  Embarked Fare_category Age_Category\n",
       "495       3    2      0      0         1           low            0\n",
       "648       3    2      0      0         2           low            0\n",
       "278       3    2      4      1         3           low            1\n",
       "31        1    1      1      0         1        middle            0\n",
       "255       3    1      0      2         1           low            0"
      ]
     },
     "execution_count": 45,
     "metadata": {},
     "output_type": "execute_result"
    }
   ],
   "source": [
    "X_test.head()"
   ]
  },
  {
   "cell_type": "code",
   "execution_count": 46,
   "id": "9e7b3be0",
   "metadata": {
    "execution": {
     "iopub.execute_input": "2022-05-23T23:30:19.856839Z",
     "iopub.status.busy": "2022-05-23T23:30:19.856533Z",
     "iopub.status.idle": "2022-05-23T23:30:19.862775Z",
     "shell.execute_reply": "2022-05-23T23:30:19.862289Z"
    },
    "papermill": {
     "duration": 0.123397,
     "end_time": "2022-05-23T23:30:19.864640",
     "exception": false,
     "start_time": "2022-05-23T23:30:19.741243",
     "status": "completed"
    },
    "tags": []
   },
   "outputs": [],
   "source": [
    "X_train['Fare_category'] = X_train['Fare_category'].map({'low':0,'middle' :1,'upper_middle': 2,'high':3})\n",
    "X_test['Fare_category'] = X_test['Fare_category'].map({'low':0,'middle' :1,'upper_middle': 2,'high':3})"
   ]
  },
  {
   "cell_type": "code",
   "execution_count": 47,
   "id": "37321039",
   "metadata": {
    "execution": {
     "iopub.execute_input": "2022-05-23T23:30:20.096391Z",
     "iopub.status.busy": "2022-05-23T23:30:20.095920Z",
     "iopub.status.idle": "2022-05-23T23:30:20.105244Z",
     "shell.execute_reply": "2022-05-23T23:30:20.104610Z"
    },
    "papermill": {
     "duration": 0.128391,
     "end_time": "2022-05-23T23:30:20.107510",
     "exception": false,
     "start_time": "2022-05-23T23:30:19.979119",
     "status": "completed"
    },
    "tags": []
   },
   "outputs": [
    {
     "data": {
      "text/html": [
       "<div>\n",
       "<style scoped>\n",
       "    .dataframe tbody tr th:only-of-type {\n",
       "        vertical-align: middle;\n",
       "    }\n",
       "\n",
       "    .dataframe tbody tr th {\n",
       "        vertical-align: top;\n",
       "    }\n",
       "\n",
       "    .dataframe thead th {\n",
       "        text-align: right;\n",
       "    }\n",
       "</style>\n",
       "<table border=\"1\" class=\"dataframe\">\n",
       "  <thead>\n",
       "    <tr style=\"text-align: right;\">\n",
       "      <th></th>\n",
       "      <th>Pclass</th>\n",
       "      <th>Sex</th>\n",
       "      <th>SibSp</th>\n",
       "      <th>Parch</th>\n",
       "      <th>Embarked</th>\n",
       "      <th>Fare_category</th>\n",
       "      <th>Age_Category</th>\n",
       "    </tr>\n",
       "  </thead>\n",
       "  <tbody>\n",
       "    <tr>\n",
       "      <th>495</th>\n",
       "      <td>3</td>\n",
       "      <td>2</td>\n",
       "      <td>0</td>\n",
       "      <td>0</td>\n",
       "      <td>1</td>\n",
       "      <td>0</td>\n",
       "      <td>0</td>\n",
       "    </tr>\n",
       "    <tr>\n",
       "      <th>648</th>\n",
       "      <td>3</td>\n",
       "      <td>2</td>\n",
       "      <td>0</td>\n",
       "      <td>0</td>\n",
       "      <td>2</td>\n",
       "      <td>0</td>\n",
       "      <td>0</td>\n",
       "    </tr>\n",
       "    <tr>\n",
       "      <th>278</th>\n",
       "      <td>3</td>\n",
       "      <td>2</td>\n",
       "      <td>4</td>\n",
       "      <td>1</td>\n",
       "      <td>3</td>\n",
       "      <td>0</td>\n",
       "      <td>1</td>\n",
       "    </tr>\n",
       "    <tr>\n",
       "      <th>31</th>\n",
       "      <td>1</td>\n",
       "      <td>1</td>\n",
       "      <td>1</td>\n",
       "      <td>0</td>\n",
       "      <td>1</td>\n",
       "      <td>1</td>\n",
       "      <td>0</td>\n",
       "    </tr>\n",
       "    <tr>\n",
       "      <th>255</th>\n",
       "      <td>3</td>\n",
       "      <td>1</td>\n",
       "      <td>0</td>\n",
       "      <td>2</td>\n",
       "      <td>1</td>\n",
       "      <td>0</td>\n",
       "      <td>0</td>\n",
       "    </tr>\n",
       "  </tbody>\n",
       "</table>\n",
       "</div>"
      ],
      "text/plain": [
       "     Pclass  Sex  SibSp  Parch  Embarked Fare_category Age_Category\n",
       "495       3    2      0      0         1             0            0\n",
       "648       3    2      0      0         2             0            0\n",
       "278       3    2      4      1         3             0            1\n",
       "31        1    1      1      0         1             1            0\n",
       "255       3    1      0      2         1             0            0"
      ]
     },
     "execution_count": 47,
     "metadata": {},
     "output_type": "execute_result"
    }
   ],
   "source": [
    "X_test.head()"
   ]
  },
  {
   "cell_type": "code",
   "execution_count": 48,
   "id": "d0490c04",
   "metadata": {
    "execution": {
     "iopub.execute_input": "2022-05-23T23:30:20.340919Z",
     "iopub.status.busy": "2022-05-23T23:30:20.340510Z",
     "iopub.status.idle": "2022-05-23T23:30:23.090420Z",
     "shell.execute_reply": "2022-05-23T23:30:23.089431Z"
    },
    "papermill": {
     "duration": 2.86849,
     "end_time": "2022-05-23T23:30:23.093003",
     "exception": false,
     "start_time": "2022-05-23T23:30:20.224513",
     "status": "completed"
    },
    "tags": []
   },
   "outputs": [
    {
     "data": {
      "text/plain": [
       "<seaborn.axisgrid.PairGrid at 0x7f740d15b590>"
      ]
     },
     "execution_count": 48,
     "metadata": {},
     "output_type": "execute_result"
    },
    {
     "data": {
      "image/png": "[encoded data removed]",
      "text/plain": [
       "<Figure size 591.875x540 with 12 Axes>"
      ]
     },
     "metadata": {
      "needs_background": "light"
     },
     "output_type": "display_data"
    }
   ],
   "source": [
    "sns.pairplot(data = train_df,hue = 'Survived')"
   ]
  },
  {
   "cell_type": "markdown",
   "id": "a06f74f7",
   "metadata": {
    "papermill": {
     "duration": 0.117182,
     "end_time": "2022-05-23T23:30:23.328720",
     "exception": false,
     "start_time": "2022-05-23T23:30:23.211538",
     "status": "completed"
    },
    "tags": []
   },
   "source": [
    "# Everything is done lets Apply Model Lets first Try with Random Forest Classifier"
   ]
  },
  {
   "cell_type": "code",
   "execution_count": 49,
   "id": "e994b57a",
   "metadata": {
    "execution": {
     "iopub.execute_input": "2022-05-23T23:30:23.565712Z",
     "iopub.status.busy": "2022-05-23T23:30:23.565272Z",
     "iopub.status.idle": "2022-05-23T23:30:23.706098Z",
     "shell.execute_reply": "2022-05-23T23:30:23.705119Z"
    },
    "papermill": {
     "duration": 0.261704,
     "end_time": "2022-05-23T23:30:23.708194",
     "exception": false,
     "start_time": "2022-05-23T23:30:23.446490",
     "status": "completed"
    },
    "tags": []
   },
   "outputs": [
    {
     "data": {
      "text/plain": [
       "KNeighborsClassifier()"
      ]
     },
     "execution_count": 49,
     "metadata": {},
     "output_type": "execute_result"
    }
   ],
   "source": [
    "from sklearn.neighbors import KNeighborsClassifier\n",
    "ref = KNeighborsClassifier()\n",
    "ref.fit(X_train,y_train)"
   ]
  },
  {
   "cell_type": "code",
   "execution_count": 50,
   "id": "2dfc8a89",
   "metadata": {
    "execution": {
     "iopub.execute_input": "2022-05-23T23:30:23.950877Z",
     "iopub.status.busy": "2022-05-23T23:30:23.950344Z",
     "iopub.status.idle": "2022-05-23T23:30:23.961414Z",
     "shell.execute_reply": "2022-05-23T23:30:23.960887Z"
    },
    "papermill": {
     "duration": 0.135892,
     "end_time": "2022-05-23T23:30:23.963300",
     "exception": false,
     "start_time": "2022-05-23T23:30:23.827408",
     "status": "completed"
    },
    "tags": []
   },
   "outputs": [],
   "source": [
    "pred = ref.predict(X_test)"
   ]
  },
  {
   "cell_type": "code",
   "execution_count": 51,
   "id": "889f3768",
   "metadata": {
    "execution": {
     "iopub.execute_input": "2022-05-23T23:30:24.119520Z",
     "iopub.status.busy": "2022-05-23T23:30:24.119118Z",
     "iopub.status.idle": "2022-05-23T23:30:24.131451Z",
     "shell.execute_reply": "2022-05-23T23:30:24.130832Z"
    },
    "papermill": {
     "duration": 0.091266,
     "end_time": "2022-05-23T23:30:24.133122",
     "exception": false,
     "start_time": "2022-05-23T23:30:24.041856",
     "status": "completed"
    },
    "tags": []
   },
   "outputs": [
    {
     "data": {
      "text/plain": [
       "0.7988826815642458"
      ]
     },
     "execution_count": 51,
     "metadata": {},
     "output_type": "execute_result"
    }
   ],
   "source": [
    "ref.score(X_test,y_test)"
   ]
  },
  {
   "cell_type": "code",
   "execution_count": 52,
   "id": "d079bfe4",
   "metadata": {
    "execution": {
     "iopub.execute_input": "2022-05-23T23:30:24.303253Z",
     "iopub.status.busy": "2022-05-23T23:30:24.302760Z",
     "iopub.status.idle": "2022-05-23T23:30:24.329199Z",
     "shell.execute_reply": "2022-05-23T23:30:24.328593Z"
    },
    "papermill": {
     "duration": 0.119852,
     "end_time": "2022-05-23T23:30:24.333380",
     "exception": false,
     "start_time": "2022-05-23T23:30:24.213528",
     "status": "completed"
    },
    "tags": []
   },
   "outputs": [
    {
     "data": {
      "text/plain": [
       "0.8342696629213483"
      ]
     },
     "execution_count": 52,
     "metadata": {},
     "output_type": "execute_result"
    }
   ],
   "source": [
    "ref.score(X_train,y_train)"
   ]
  },
  {
   "cell_type": "code",
   "execution_count": 53,
   "id": "9805172b",
   "metadata": {
    "execution": {
     "iopub.execute_input": "2022-05-23T23:30:24.497018Z",
     "iopub.status.busy": "2022-05-23T23:30:24.496770Z",
     "iopub.status.idle": "2022-05-23T23:30:24.672688Z",
     "shell.execute_reply": "2022-05-23T23:30:24.671802Z"
    },
    "papermill": {
     "duration": 0.265263,
     "end_time": "2022-05-23T23:30:24.675630",
     "exception": false,
     "start_time": "2022-05-23T23:30:24.410367",
     "status": "completed"
    },
    "tags": []
   },
   "outputs": [
    {
     "data": {
      "text/plain": [
       "<sklearn.metrics._plot.roc_curve.RocCurveDisplay at 0x7f74046a3dd0>"
      ]
     },
     "execution_count": 53,
     "metadata": {},
     "output_type": "execute_result"
    },
    {
     "data": {
      "image/png": "[encoded data removed]",
      "text/plain": [
       "<Figure size 432x288 with 1 Axes>"
      ]
     },
     "metadata": {
      "needs_background": "light"
     },
     "output_type": "display_data"
    }
   ],
   "source": [
    "from sklearn.metrics import roc_curve,RocCurveDisplay,auc\n",
    "fpr, tpr, thresholds = roc_curve(y_test, pred)\n",
    "roc_auc = auc(fpr, tpr)\n",
    "display = RocCurveDisplay(fpr=fpr, tpr=tpr, roc_auc=roc_auc,estimator_name='example estimator')\n",
    "display.plot()"
   ]
  },
  {
   "cell_type": "code",
   "execution_count": 54,
   "id": "7e73d3b7",
   "metadata": {
    "execution": {
     "iopub.execute_input": "2022-05-23T23:30:24.923564Z",
     "iopub.status.busy": "2022-05-23T23:30:24.923246Z",
     "iopub.status.idle": "2022-05-23T23:30:24.929028Z",
     "shell.execute_reply": "2022-05-23T23:30:24.927446Z"
    },
    "papermill": {
     "duration": 0.134218,
     "end_time": "2022-05-23T23:30:24.931526",
     "exception": false,
     "start_time": "2022-05-23T23:30:24.797308",
     "status": "completed"
    },
    "tags": []
   },
   "outputs": [],
   "source": [
    "from sklearn.metrics import classification_report"
   ]
  },
  {
   "cell_type": "code",
   "execution_count": 55,
   "id": "805c8137",
   "metadata": {
    "execution": {
     "iopub.execute_input": "2022-05-23T23:30:25.096299Z",
     "iopub.status.busy": "2022-05-23T23:30:25.095769Z",
     "iopub.status.idle": "2022-05-23T23:30:25.105573Z",
     "shell.execute_reply": "2022-05-23T23:30:25.105002Z"
    },
    "papermill": {
     "duration": 0.095789,
     "end_time": "2022-05-23T23:30:25.108231",
     "exception": false,
     "start_time": "2022-05-23T23:30:25.012442",
     "status": "completed"
    },
    "tags": []
   },
   "outputs": [
    {
     "name": "stdout",
     "output_type": "stream",
     "text": [
      "              precision    recall  f1-score   support\n",
      "\n",
      "           0       0.80      0.90      0.85       110\n",
      "           1       0.80      0.64      0.71        69\n",
      "\n",
      "    accuracy                           0.80       179\n",
      "   macro avg       0.80      0.77      0.78       179\n",
      "weighted avg       0.80      0.80      0.79       179\n",
      "\n"
     ]
    }
   ],
   "source": [
    "print(classification_report(y_test,pred)) "
   ]
  },
  {
   "cell_type": "markdown",
   "id": "19707e8f",
   "metadata": {
    "papermill": {
     "duration": 0.078502,
     "end_time": "2022-05-23T23:30:25.266460",
     "exception": false,
     "start_time": "2022-05-23T23:30:25.187958",
     "status": "completed"
    },
    "tags": []
   },
   "source": [
    "# Lets see if we can get better value"
   ]
  },
  {
   "cell_type": "code",
   "execution_count": 56,
   "id": "34659012",
   "metadata": {
    "execution": {
     "iopub.execute_input": "2022-05-23T23:30:25.426061Z",
     "iopub.status.busy": "2022-05-23T23:30:25.425503Z",
     "iopub.status.idle": "2022-05-23T23:30:25.724641Z",
     "shell.execute_reply": "2022-05-23T23:30:25.723795Z"
    },
    "papermill": {
     "duration": 0.381463,
     "end_time": "2022-05-23T23:30:25.726574",
     "exception": false,
     "start_time": "2022-05-23T23:30:25.345111",
     "status": "completed"
    },
    "tags": []
   },
   "outputs": [
    {
     "data": {
      "text/plain": [
       "RandomForestClassifier()"
      ]
     },
     "execution_count": 56,
     "metadata": {},
     "output_type": "execute_result"
    }
   ],
   "source": [
    "from sklearn.ensemble import RandomForestClassifier\n",
    "ref = RandomForestClassifier()\n",
    "ref.fit(X_train,y_train)"
   ]
  },
  {
   "cell_type": "code",
   "execution_count": 57,
   "id": "e43f2c20",
   "metadata": {
    "execution": {
     "iopub.execute_input": "2022-05-23T23:30:25.888571Z",
     "iopub.status.busy": "2022-05-23T23:30:25.888245Z",
     "iopub.status.idle": "2022-05-23T23:30:25.910567Z",
     "shell.execute_reply": "2022-05-23T23:30:25.909954Z"
    },
    "papermill": {
     "duration": 0.104962,
     "end_time": "2022-05-23T23:30:25.912764",
     "exception": false,
     "start_time": "2022-05-23T23:30:25.807802",
     "status": "completed"
    },
    "tags": []
   },
   "outputs": [],
   "source": [
    "pred = ref.predict(X_test)"
   ]
  },
  {
   "cell_type": "code",
   "execution_count": 58,
   "id": "cc700c92",
   "metadata": {
    "execution": {
     "iopub.execute_input": "2022-05-23T23:30:26.077320Z",
     "iopub.status.busy": "2022-05-23T23:30:26.076775Z",
     "iopub.status.idle": "2022-05-23T23:30:26.087063Z",
     "shell.execute_reply": "2022-05-23T23:30:26.085104Z"
    },
    "papermill": {
     "duration": 0.094984,
     "end_time": "2022-05-23T23:30:26.089073",
     "exception": false,
     "start_time": "2022-05-23T23:30:25.994089",
     "status": "completed"
    },
    "tags": []
   },
   "outputs": [
    {
     "name": "stdout",
     "output_type": "stream",
     "text": [
      "              precision    recall  f1-score   support\n",
      "\n",
      "           0       0.81      0.91      0.86       110\n",
      "           1       0.82      0.67      0.74        69\n",
      "\n",
      "    accuracy                           0.82       179\n",
      "   macro avg       0.82      0.79      0.80       179\n",
      "weighted avg       0.82      0.82      0.81       179\n",
      "\n"
     ]
    }
   ],
   "source": [
    "print(classification_report(y_test,pred)) "
   ]
  },
  {
   "cell_type": "code",
   "execution_count": 59,
   "id": "7346a210",
   "metadata": {
    "execution": {
     "iopub.execute_input": "2022-05-23T23:30:26.253422Z",
     "iopub.status.busy": "2022-05-23T23:30:26.253100Z",
     "iopub.status.idle": "2022-05-23T23:30:26.279500Z",
     "shell.execute_reply": "2022-05-23T23:30:26.278645Z"
    },
    "papermill": {
     "duration": 0.111752,
     "end_time": "2022-05-23T23:30:26.281966",
     "exception": false,
     "start_time": "2022-05-23T23:30:26.170214",
     "status": "completed"
    },
    "tags": []
   },
   "outputs": [
    {
     "data": {
      "text/plain": [
       "0.8156424581005587"
      ]
     },
     "execution_count": 59,
     "metadata": {},
     "output_type": "execute_result"
    }
   ],
   "source": [
    "ref.score(X_test,y_test)"
   ]
  },
  {
   "cell_type": "code",
   "execution_count": 60,
   "id": "7cb6d003",
   "metadata": {
    "execution": {
     "iopub.execute_input": "2022-05-23T23:30:26.447458Z",
     "iopub.status.busy": "2022-05-23T23:30:26.446996Z",
     "iopub.status.idle": "2022-05-23T23:30:26.478707Z",
     "shell.execute_reply": "2022-05-23T23:30:26.477652Z"
    },
    "papermill": {
     "duration": 0.117013,
     "end_time": "2022-05-23T23:30:26.480579",
     "exception": false,
     "start_time": "2022-05-23T23:30:26.363566",
     "status": "completed"
    },
    "tags": []
   },
   "outputs": [
    {
     "data": {
      "text/plain": [
       "0.8679775280898876"
      ]
     },
     "execution_count": 60,
     "metadata": {},
     "output_type": "execute_result"
    }
   ],
   "source": [
    "ref.score(X_train,y_train)"
   ]
  },
  {
   "cell_type": "code",
   "execution_count": 61,
   "id": "3861271d",
   "metadata": {
    "execution": {
     "iopub.execute_input": "2022-05-23T23:30:26.644093Z",
     "iopub.status.busy": "2022-05-23T23:30:26.643656Z",
     "iopub.status.idle": "2022-05-23T23:30:26.650002Z",
     "shell.execute_reply": "2022-05-23T23:30:26.649038Z"
    },
    "papermill": {
     "duration": 0.09032,
     "end_time": "2022-05-23T23:30:26.651631",
     "exception": false,
     "start_time": "2022-05-23T23:30:26.561311",
     "status": "completed"
    },
    "tags": []
   },
   "outputs": [],
   "source": [
    "#Hyper-parameters.\n",
    "n_estimators = [int(x) for x in np.linspace(start = 100, stop = 1200, num = 12)]\n",
    "max_features = ['auto','sqrt']\n",
    "max_depth = [int(x) for x in np.linspace(5,30,num  = 6)]\n",
    "min_samples_split = [2,5,10,15,100]\n",
    "min_samples_leaf = [1,2,5,10]"
   ]
  },
  {
   "cell_type": "code",
   "execution_count": 62,
   "id": "25c93eb6",
   "metadata": {
    "execution": {
     "iopub.execute_input": "2022-05-23T23:30:26.815225Z",
     "iopub.status.busy": "2022-05-23T23:30:26.814772Z",
     "iopub.status.idle": "2022-05-23T23:30:26.818545Z",
     "shell.execute_reply": "2022-05-23T23:30:26.818027Z"
    },
    "papermill": {
     "duration": 0.088797,
     "end_time": "2022-05-23T23:30:26.821020",
     "exception": false,
     "start_time": "2022-05-23T23:30:26.732223",
     "status": "completed"
    },
    "tags": []
   },
   "outputs": [],
   "source": [
    "Params = {'n_estimators':n_estimators,\n",
    "'max_features' :max_features,\n",
    "'max_depth' :max_depth,\n",
    "'min_samples_split':min_samples_split,\n",
    "'min_samples_leaf' :min_samples_leaf\n",
    "}"
   ]
  },
  {
   "cell_type": "code",
   "execution_count": 63,
   "id": "7cd9f274",
   "metadata": {
    "execution": {
     "iopub.execute_input": "2022-05-23T23:30:27.077279Z",
     "iopub.status.busy": "2022-05-23T23:30:27.076729Z",
     "iopub.status.idle": "2022-05-23T23:30:27.080233Z",
     "shell.execute_reply": "2022-05-23T23:30:27.079784Z"
    },
    "papermill": {
     "duration": 0.132728,
     "end_time": "2022-05-23T23:30:27.082713",
     "exception": false,
     "start_time": "2022-05-23T23:30:26.949985",
     "status": "completed"
    },
    "tags": []
   },
   "outputs": [],
   "source": [
    "from sklearn.model_selection import RandomizedSearchCV\n",
    "random_rf = RandomizedSearchCV(estimator = ref, scoring = 'accuracy', param_distributions = Params, n_iter=10, n_jobs=1, cv=5, verbose=2, random_state=42)"
   ]
  },
  {
   "cell_type": "code",
   "execution_count": 64,
   "id": "35c494c3",
   "metadata": {
    "execution": {
     "iopub.execute_input": "2022-05-23T23:30:27.338509Z",
     "iopub.status.busy": "2022-05-23T23:30:27.338098Z",
     "iopub.status.idle": "2022-05-23T23:31:24.980175Z",
     "shell.execute_reply": "2022-05-23T23:31:24.979346Z"
    },
    "papermill": {
     "duration": 57.771634,
     "end_time": "2022-05-23T23:31:24.982041",
     "exception": false,
     "start_time": "2022-05-23T23:30:27.210407",
     "status": "completed"
    },
    "tags": []
   },
   "outputs": [
    {
     "name": "stdout",
     "output_type": "stream",
     "text": [
      "Fitting 5 folds for each of 10 candidates, totalling 50 fits\n",
      "[CV] END max_depth=10, max_features=sqrt, min_samples_leaf=5, min_samples_split=5, n_estimators=900; total time=   1.8s\n",
      "[CV] END max_depth=10, max_features=sqrt, min_samples_leaf=5, min_samples_split=5, n_estimators=900; total time=   1.2s\n",
      "[CV] END max_depth=10, max_features=sqrt, min_samples_leaf=5, min_samples_split=5, n_estimators=900; total time=   1.1s\n",
      "[CV] END max_depth=10, max_features=sqrt, min_samples_leaf=5, min_samples_split=5, n_estimators=900; total time=   1.1s\n",
      "[CV] END max_depth=10, max_features=sqrt, min_samples_leaf=5, min_samples_split=5, n_estimators=900; total time=   1.1s\n",
      "[CV] END max_depth=15, max_features=sqrt, min_samples_leaf=2, min_samples_split=10, n_estimators=1100; total time=   1.4s\n",
      "[CV] END max_depth=15, max_features=sqrt, min_samples_leaf=2, min_samples_split=10, n_estimators=1100; total time=   1.4s\n",
      "[CV] END max_depth=15, max_features=sqrt, min_samples_leaf=2, min_samples_split=10, n_estimators=1100; total time=   1.4s\n",
      "[CV] END max_depth=15, max_features=sqrt, min_samples_leaf=2, min_samples_split=10, n_estimators=1100; total time=   1.4s\n",
      "[CV] END max_depth=15, max_features=sqrt, min_samples_leaf=2, min_samples_split=10, n_estimators=1100; total time=   1.4s\n",
      "[CV] END max_depth=15, max_features=auto, min_samples_leaf=5, min_samples_split=100, n_estimators=300; total time=   0.4s\n",
      "[CV] END max_depth=15, max_features=auto, min_samples_leaf=5, min_samples_split=100, n_estimators=300; total time=   0.4s\n",
      "[CV] END max_depth=15, max_features=auto, min_samples_leaf=5, min_samples_split=100, n_estimators=300; total time=   0.4s\n",
      "[CV] END max_depth=15, max_features=auto, min_samples_leaf=5, min_samples_split=100, n_estimators=300; total time=   0.4s\n",
      "[CV] END max_depth=15, max_features=auto, min_samples_leaf=5, min_samples_split=100, n_estimators=300; total time=   0.4s\n",
      "[CV] END max_depth=15, max_features=auto, min_samples_leaf=5, min_samples_split=5, n_estimators=400; total time=   0.5s\n",
      "[CV] END max_depth=15, max_features=auto, min_samples_leaf=5, min_samples_split=5, n_estimators=400; total time=   0.5s\n",
      "[CV] END max_depth=15, max_features=auto, min_samples_leaf=5, min_samples_split=5, n_estimators=400; total time=   0.5s\n",
      "[CV] END max_depth=15, max_features=auto, min_samples_leaf=5, min_samples_split=5, n_estimators=400; total time=   0.5s\n",
      "[CV] END max_depth=15, max_features=auto, min_samples_leaf=5, min_samples_split=5, n_estimators=400; total time=   0.5s\n",
      "[CV] END max_depth=20, max_features=auto, min_samples_leaf=10, min_samples_split=5, n_estimators=700; total time=   1.2s\n",
      "[CV] END max_depth=20, max_features=auto, min_samples_leaf=10, min_samples_split=5, n_estimators=700; total time=   1.3s\n",
      "[CV] END max_depth=20, max_features=auto, min_samples_leaf=10, min_samples_split=5, n_estimators=700; total time=   1.3s\n",
      "[CV] END max_depth=20, max_features=auto, min_samples_leaf=10, min_samples_split=5, n_estimators=700; total time=   1.3s\n",
      "[CV] END max_depth=20, max_features=auto, min_samples_leaf=10, min_samples_split=5, n_estimators=700; total time=   1.3s\n",
      "[CV] END max_depth=25, max_features=sqrt, min_samples_leaf=1, min_samples_split=2, n_estimators=1000; total time=   2.0s\n",
      "[CV] END max_depth=25, max_features=sqrt, min_samples_leaf=1, min_samples_split=2, n_estimators=1000; total time=   1.4s\n",
      "[CV] END max_depth=25, max_features=sqrt, min_samples_leaf=1, min_samples_split=2, n_estimators=1000; total time=   1.7s\n",
      "[CV] END max_depth=25, max_features=sqrt, min_samples_leaf=1, min_samples_split=2, n_estimators=1000; total time=   2.0s\n",
      "[CV] END max_depth=25, max_features=sqrt, min_samples_leaf=1, min_samples_split=2, n_estimators=1000; total time=   2.0s\n",
      "[CV] END max_depth=5, max_features=sqrt, min_samples_leaf=10, min_samples_split=15, n_estimators=1100; total time=   2.1s\n",
      "[CV] END max_depth=5, max_features=sqrt, min_samples_leaf=10, min_samples_split=15, n_estimators=1100; total time=   2.1s\n",
      "[CV] END max_depth=5, max_features=sqrt, min_samples_leaf=10, min_samples_split=15, n_estimators=1100; total time=   2.1s\n",
      "[CV] END max_depth=5, max_features=sqrt, min_samples_leaf=10, min_samples_split=15, n_estimators=1100; total time=   2.1s\n",
      "[CV] END max_depth=5, max_features=sqrt, min_samples_leaf=10, min_samples_split=15, n_estimators=1100; total time=   2.1s\n",
      "[CV] END max_depth=15, max_features=sqrt, min_samples_leaf=1, min_samples_split=15, n_estimators=300; total time=   0.8s\n",
      "[CV] END max_depth=15, max_features=sqrt, min_samples_leaf=1, min_samples_split=15, n_estimators=300; total time=   0.6s\n",
      "[CV] END max_depth=15, max_features=sqrt, min_samples_leaf=1, min_samples_split=15, n_estimators=300; total time=   0.6s\n",
      "[CV] END max_depth=15, max_features=sqrt, min_samples_leaf=1, min_samples_split=15, n_estimators=300; total time=   0.6s\n",
      "[CV] END max_depth=15, max_features=sqrt, min_samples_leaf=1, min_samples_split=15, n_estimators=300; total time=   0.6s\n",
      "[CV] END max_depth=5, max_features=sqrt, min_samples_leaf=2, min_samples_split=10, n_estimators=700; total time=   1.3s\n",
      "[CV] END max_depth=5, max_features=sqrt, min_samples_leaf=2, min_samples_split=10, n_estimators=700; total time=   1.0s\n",
      "[CV] END max_depth=5, max_features=sqrt, min_samples_leaf=2, min_samples_split=10, n_estimators=700; total time=   0.9s\n",
      "[CV] END max_depth=5, max_features=sqrt, min_samples_leaf=2, min_samples_split=10, n_estimators=700; total time=   0.9s\n",
      "[CV] END max_depth=5, max_features=sqrt, min_samples_leaf=2, min_samples_split=10, n_estimators=700; total time=   0.9s\n",
      "[CV] END max_depth=20, max_features=auto, min_samples_leaf=1, min_samples_split=15, n_estimators=700; total time=   0.9s\n",
      "[CV] END max_depth=20, max_features=auto, min_samples_leaf=1, min_samples_split=15, n_estimators=700; total time=   0.9s\n",
      "[CV] END max_depth=20, max_features=auto, min_samples_leaf=1, min_samples_split=15, n_estimators=700; total time=   0.9s\n",
      "[CV] END max_depth=20, max_features=auto, min_samples_leaf=1, min_samples_split=15, n_estimators=700; total time=   0.9s\n",
      "[CV] END max_depth=20, max_features=auto, min_samples_leaf=1, min_samples_split=15, n_estimators=700; total time=   1.3s\n"
     ]
    },
    {
     "data": {
      "text/plain": [
       "RandomizedSearchCV(cv=5, estimator=RandomForestClassifier(), n_jobs=1,\n",
       "                   param_distributions={'max_depth': [5, 10, 15, 20, 25, 30],\n",
       "                                        'max_features': ['auto', 'sqrt'],\n",
       "                                        'min_samples_leaf': [1, 2, 5, 10],\n",
       "                                        'min_samples_split': [2, 5, 10, 15,\n",
       "                                                              100],\n",
       "                                        'n_estimators': [100, 200, 300, 400,\n",
       "                                                         500, 600, 700, 800,\n",
       "                                                         900, 1000, 1100,\n",
       "                                                         1200]},\n",
       "                   random_state=42, scoring='accuracy', verbose=2)"
      ]
     },
     "execution_count": 64,
     "metadata": {},
     "output_type": "execute_result"
    }
   ],
   "source": [
    "random_rf.fit(X_train,y_train)"
   ]
  },
  {
   "cell_type": "code",
   "execution_count": 65,
   "id": "46a2c88b",
   "metadata": {
    "execution": {
     "iopub.execute_input": "2022-05-23T23:31:25.181024Z",
     "iopub.status.busy": "2022-05-23T23:31:25.180715Z",
     "iopub.status.idle": "2022-05-23T23:31:25.185984Z",
     "shell.execute_reply": "2022-05-23T23:31:25.185389Z"
    },
    "papermill": {
     "duration": 0.107927,
     "end_time": "2022-05-23T23:31:25.187479",
     "exception": false,
     "start_time": "2022-05-23T23:31:25.079552",
     "status": "completed"
    },
    "tags": []
   },
   "outputs": [
    {
     "data": {
      "text/plain": [
       "{'n_estimators': 300,\n",
       " 'min_samples_split': 15,\n",
       " 'min_samples_leaf': 1,\n",
       " 'max_features': 'sqrt',\n",
       " 'max_depth': 15}"
      ]
     },
     "execution_count": 65,
     "metadata": {},
     "output_type": "execute_result"
    }
   ],
   "source": [
    "random_rf.best_params_"
   ]
  },
  {
   "cell_type": "code",
   "execution_count": 66,
   "id": "232718e6",
   "metadata": {
    "execution": {
     "iopub.execute_input": "2022-05-23T23:31:25.386477Z",
     "iopub.status.busy": "2022-05-23T23:31:25.386158Z",
     "iopub.status.idle": "2022-05-23T23:31:25.461203Z",
     "shell.execute_reply": "2022-05-23T23:31:25.460085Z"
    },
    "papermill": {
     "duration": 0.176908,
     "end_time": "2022-05-23T23:31:25.464100",
     "exception": false,
     "start_time": "2022-05-23T23:31:25.287192",
     "status": "completed"
    },
    "tags": []
   },
   "outputs": [
    {
     "data": {
      "text/plain": [
       "0.8455056179775281"
      ]
     },
     "execution_count": 66,
     "metadata": {},
     "output_type": "execute_result"
    }
   ],
   "source": [
    "random_rf.score(X_train,y_train)"
   ]
  },
  {
   "cell_type": "code",
   "execution_count": 67,
   "id": "f027896a",
   "metadata": {
    "execution": {
     "iopub.execute_input": "2022-05-23T23:31:25.776254Z",
     "iopub.status.busy": "2022-05-23T23:31:25.775965Z",
     "iopub.status.idle": "2022-05-23T23:31:25.822565Z",
     "shell.execute_reply": "2022-05-23T23:31:25.821096Z"
    },
    "papermill": {
     "duration": 0.204427,
     "end_time": "2022-05-23T23:31:25.825042",
     "exception": false,
     "start_time": "2022-05-23T23:31:25.620615",
     "status": "completed"
    },
    "tags": []
   },
   "outputs": [
    {
     "data": {
      "text/plain": [
       "0.8044692737430168"
      ]
     },
     "execution_count": 67,
     "metadata": {},
     "output_type": "execute_result"
    }
   ],
   "source": [
    "random_rf.score(X_test,y_test)"
   ]
  },
  {
   "cell_type": "code",
   "execution_count": 68,
   "id": "f9dacc88",
   "metadata": {
    "execution": {
     "iopub.execute_input": "2022-05-23T23:31:26.027916Z",
     "iopub.status.busy": "2022-05-23T23:31:26.027587Z",
     "iopub.status.idle": "2022-05-23T23:31:26.080870Z",
     "shell.execute_reply": "2022-05-23T23:31:26.079738Z"
    },
    "papermill": {
     "duration": 0.156539,
     "end_time": "2022-05-23T23:31:26.083408",
     "exception": false,
     "start_time": "2022-05-23T23:31:25.926869",
     "status": "completed"
    },
    "tags": []
   },
   "outputs": [],
   "source": [
    "pred = random_rf.predict(X_test)"
   ]
  },
  {
   "cell_type": "code",
   "execution_count": 69,
   "id": "acb9b127",
   "metadata": {
    "execution": {
     "iopub.execute_input": "2022-05-23T23:31:26.286254Z",
     "iopub.status.busy": "2022-05-23T23:31:26.285279Z",
     "iopub.status.idle": "2022-05-23T23:31:26.298241Z",
     "shell.execute_reply": "2022-05-23T23:31:26.296649Z"
    },
    "papermill": {
     "duration": 0.117245,
     "end_time": "2022-05-23T23:31:26.300800",
     "exception": false,
     "start_time": "2022-05-23T23:31:26.183555",
     "status": "completed"
    },
    "tags": []
   },
   "outputs": [
    {
     "name": "stdout",
     "output_type": "stream",
     "text": [
      "              precision    recall  f1-score   support\n",
      "\n",
      "           0       0.80      0.92      0.85       110\n",
      "           1       0.83      0.62      0.71        69\n",
      "\n",
      "    accuracy                           0.80       179\n",
      "   macro avg       0.81      0.77      0.78       179\n",
      "weighted avg       0.81      0.80      0.80       179\n",
      "\n"
     ]
    }
   ],
   "source": [
    "print(classification_report(y_test,pred)) "
   ]
  },
  {
   "cell_type": "code",
   "execution_count": 70,
   "id": "2b6906cc",
   "metadata": {
    "execution": {
     "iopub.execute_input": "2022-05-23T23:31:26.504023Z",
     "iopub.status.busy": "2022-05-23T23:31:26.503693Z",
     "iopub.status.idle": "2022-05-23T23:31:26.893510Z",
     "shell.execute_reply": "2022-05-23T23:31:26.892696Z"
    },
    "papermill": {
     "duration": 0.493972,
     "end_time": "2022-05-23T23:31:26.896075",
     "exception": false,
     "start_time": "2022-05-23T23:31:26.402103",
     "status": "completed"
    },
    "tags": []
   },
   "outputs": [
    {
     "data": {
      "text/plain": [
       "RandomForestClassifier(max_depth=15, min_samples_split=15, n_estimators=200)"
      ]
     },
     "execution_count": 70,
     "metadata": {},
     "output_type": "execute_result"
    }
   ],
   "source": [
    "from sklearn.ensemble import RandomForestClassifier\n",
    "ref = RandomForestClassifier(n_estimators = 200, max_depth = 15, min_samples_split = 15, min_samples_leaf = 1)\n",
    "ref.fit(X_train,y_train)"
   ]
  },
  {
   "cell_type": "code",
   "execution_count": 71,
   "id": "4cd6184b",
   "metadata": {
    "execution": {
     "iopub.execute_input": "2022-05-23T23:31:27.105081Z",
     "iopub.status.busy": "2022-05-23T23:31:27.104750Z",
     "iopub.status.idle": "2022-05-23T23:31:27.142263Z",
     "shell.execute_reply": "2022-05-23T23:31:27.141609Z"
    },
    "papermill": {
     "duration": 0.146143,
     "end_time": "2022-05-23T23:31:27.144326",
     "exception": false,
     "start_time": "2022-05-23T23:31:26.998183",
     "status": "completed"
    },
    "tags": []
   },
   "outputs": [],
   "source": [
    "pred = ref.predict(X_test)"
   ]
  },
  {
   "cell_type": "code",
   "execution_count": 72,
   "id": "658c94a4",
   "metadata": {
    "execution": {
     "iopub.execute_input": "2022-05-23T23:31:27.355302Z",
     "iopub.status.busy": "2022-05-23T23:31:27.354759Z",
     "iopub.status.idle": "2022-05-23T23:31:27.365731Z",
     "shell.execute_reply": "2022-05-23T23:31:27.364923Z"
    },
    "papermill": {
     "duration": 0.123751,
     "end_time": "2022-05-23T23:31:27.368344",
     "exception": false,
     "start_time": "2022-05-23T23:31:27.244593",
     "status": "completed"
    },
    "tags": []
   },
   "outputs": [
    {
     "name": "stdout",
     "output_type": "stream",
     "text": [
      "              precision    recall  f1-score   support\n",
      "\n",
      "           0       0.81      0.91      0.85       110\n",
      "           1       0.82      0.65      0.73        69\n",
      "\n",
      "    accuracy                           0.81       179\n",
      "   macro avg       0.81      0.78      0.79       179\n",
      "weighted avg       0.81      0.81      0.81       179\n",
      "\n"
     ]
    }
   ],
   "source": [
    "print(classification_report(y_test,pred)) "
   ]
  },
  {
   "cell_type": "code",
   "execution_count": 73,
   "id": "d6219751",
   "metadata": {
    "execution": {
     "iopub.execute_input": "2022-05-23T23:31:27.590753Z",
     "iopub.status.busy": "2022-05-23T23:31:27.589973Z",
     "iopub.status.idle": "2022-05-23T23:31:27.645788Z",
     "shell.execute_reply": "2022-05-23T23:31:27.644727Z"
    },
    "papermill": {
     "duration": 0.168984,
     "end_time": "2022-05-23T23:31:27.648430",
     "exception": false,
     "start_time": "2022-05-23T23:31:27.479446",
     "status": "completed"
    },
    "tags": []
   },
   "outputs": [
    {
     "data": {
      "text/plain": [
       "0.8539325842696629"
      ]
     },
     "execution_count": 73,
     "metadata": {},
     "output_type": "execute_result"
    }
   ],
   "source": [
    "ref.score(X_train,y_train)"
   ]
  },
  {
   "cell_type": "code",
   "execution_count": 74,
   "id": "64c9edeb",
   "metadata": {
    "execution": {
     "iopub.execute_input": "2022-05-23T23:31:27.868739Z",
     "iopub.status.busy": "2022-05-23T23:31:27.867447Z",
     "iopub.status.idle": "2022-05-23T23:31:27.969085Z",
     "shell.execute_reply": "2022-05-23T23:31:27.967419Z"
    },
    "papermill": {
     "duration": 0.207979,
     "end_time": "2022-05-23T23:31:27.970830",
     "exception": true,
     "start_time": "2022-05-23T23:31:27.762851",
     "status": "failed"
    },
    "tags": []
   },
   "outputs": [
    {
     "ename": "FileNotFoundError",
     "evalue": "[Errno 2] No such file or directory: 'test.csv'",
     "output_type": "error",
     "traceback": [
      "\u001b[0;31m---------------------------------------------------------------------------\u001b[0m",
      "\u001b[0;31mFileNotFoundError\u001b[0m                         Traceback (most recent call last)",
      "\u001b[0;32m/tmp/ipykernel_19/1027832637.py\u001b[0m in \u001b[0;36m<module>\u001b[0;34m\u001b[0m\n\u001b[0;32m----> 1\u001b[0;31m \u001b[0mnew_test\u001b[0m \u001b[0;34m=\u001b[0m\u001b[0mpd\u001b[0m\u001b[0;34m.\u001b[0m\u001b[0mread_csv\u001b[0m\u001b[0;34m(\u001b[0m\u001b[0;34m'test.csv'\u001b[0m\u001b[0;34m)\u001b[0m\u001b[0;34m\u001b[0m\u001b[0;34m\u001b[0m\u001b[0m\n\u001b[0m\u001b[1;32m      2\u001b[0m \u001b[0mx_test\u001b[0m \u001b[0;34m=\u001b[0m \u001b[0mtest_df\u001b[0m\u001b[0;34m\u001b[0m\u001b[0;34m\u001b[0m\u001b[0m\n",
      "\u001b[0;32m/opt/conda/lib/python3.7/site-packages/pandas/util/_decorators.py\u001b[0m in \u001b[0;36mwrapper\u001b[0;34m(*args, **kwargs)\u001b[0m\n\u001b[1;32m    309\u001b[0m                     \u001b[0mstacklevel\u001b[0m\u001b[0;34m=\u001b[0m\u001b[0mstacklevel\u001b[0m\u001b[0;34m,\u001b[0m\u001b[0;34m\u001b[0m\u001b[0;34m\u001b[0m\u001b[0m\n\u001b[1;32m    310\u001b[0m                 )\n\u001b[0;32m--> 311\u001b[0;31m             \u001b[0;32mreturn\u001b[0m \u001b[0mfunc\u001b[0m\u001b[0;34m(\u001b[0m\u001b[0;34m*\u001b[0m\u001b[0margs\u001b[0m\u001b[0;34m,\u001b[0m \u001b[0;34m**\u001b[0m\u001b[0mkwargs\u001b[0m\u001b[0;34m)\u001b[0m\u001b[0;34m\u001b[0m\u001b[0;34m\u001b[0m\u001b[0m\n\u001b[0m\u001b[1;32m    312\u001b[0m \u001b[0;34m\u001b[0m\u001b[0m\n\u001b[1;32m    313\u001b[0m         \u001b[0;32mreturn\u001b[0m \u001b[0mwrapper\u001b[0m\u001b[0;34m\u001b[0m\u001b[0;34m\u001b[0m\u001b[0m\n",
      "\u001b[0;32m/opt/conda/lib/python3.7/site-packages/pandas/io/parsers/readers.py\u001b[0m in \u001b[0;36mread_csv\u001b[0;34m(filepath_or_buffer, sep, delimiter, header, names, index_col, usecols, squeeze, prefix, mangle_dupe_cols, dtype, engine, converters, true_values, false_values, skipinitialspace, skiprows, skipfooter, nrows, na_values, keep_default_na, na_filter, verbose, skip_blank_lines, parse_dates, infer_datetime_format, keep_date_col, date_parser, dayfirst, cache_dates, iterator, chunksize, compression, thousands, decimal, lineterminator, quotechar, quoting, doublequote, escapechar, comment, encoding, encoding_errors, dialect, error_bad_lines, warn_bad_lines, on_bad_lines, delim_whitespace, low_memory, memory_map, float_precision, storage_options)\u001b[0m\n\u001b[1;32m    584\u001b[0m     \u001b[0mkwds\u001b[0m\u001b[0;34m.\u001b[0m\u001b[0mupdate\u001b[0m\u001b[0;34m(\u001b[0m\u001b[0mkwds_defaults\u001b[0m\u001b[0;34m)\u001b[0m\u001b[0;34m\u001b[0m\u001b[0;34m\u001b[0m\u001b[0m\n\u001b[1;32m    585\u001b[0m \u001b[0;34m\u001b[0m\u001b[0m\n\u001b[0;32m--> 586\u001b[0;31m     \u001b[0;32mreturn\u001b[0m \u001b[0m_read\u001b[0m\u001b[0;34m(\u001b[0m\u001b[0mfilepath_or_buffer\u001b[0m\u001b[0;34m,\u001b[0m \u001b[0mkwds\u001b[0m\u001b[0;34m)\u001b[0m\u001b[0;34m\u001b[0m\u001b[0;34m\u001b[0m\u001b[0m\n\u001b[0m\u001b[1;32m    587\u001b[0m \u001b[0;34m\u001b[0m\u001b[0m\n\u001b[1;32m    588\u001b[0m \u001b[0;34m\u001b[0m\u001b[0m\n",
      "\u001b[0;32m/opt/conda/lib/python3.7/site-packages/pandas/io/parsers/readers.py\u001b[0m in \u001b[0;36m_read\u001b[0;34m(filepath_or_buffer, kwds)\u001b[0m\n\u001b[1;32m    480\u001b[0m \u001b[0;34m\u001b[0m\u001b[0m\n\u001b[1;32m    481\u001b[0m     \u001b[0;31m# Create the parser.\u001b[0m\u001b[0;34m\u001b[0m\u001b[0;34m\u001b[0m\u001b[0;34m\u001b[0m\u001b[0m\n\u001b[0;32m--> 482\u001b[0;31m     \u001b[0mparser\u001b[0m \u001b[0;34m=\u001b[0m \u001b[0mTextFileReader\u001b[0m\u001b[0;34m(\u001b[0m\u001b[0mfilepath_or_buffer\u001b[0m\u001b[0;34m,\u001b[0m \u001b[0;34m**\u001b[0m\u001b[0mkwds\u001b[0m\u001b[0;34m)\u001b[0m\u001b[0;34m\u001b[0m\u001b[0;34m\u001b[0m\u001b[0m\n\u001b[0m\u001b[1;32m    483\u001b[0m \u001b[0;34m\u001b[0m\u001b[0m\n\u001b[1;32m    484\u001b[0m     \u001b[0;32mif\u001b[0m \u001b[0mchunksize\u001b[0m \u001b[0;32mor\u001b[0m \u001b[0miterator\u001b[0m\u001b[0;34m:\u001b[0m\u001b[0;34m\u001b[0m\u001b[0;34m\u001b[0m\u001b[0m\n",
      "\u001b[0;32m/opt/conda/lib/python3.7/site-packages/pandas/io/parsers/readers.py\u001b[0m in \u001b[0;36m__init__\u001b[0;34m(self, f, engine, **kwds)\u001b[0m\n\u001b[1;32m    809\u001b[0m             \u001b[0mself\u001b[0m\u001b[0;34m.\u001b[0m\u001b[0moptions\u001b[0m\u001b[0;34m[\u001b[0m\u001b[0;34m\"has_index_names\"\u001b[0m\u001b[0;34m]\u001b[0m \u001b[0;34m=\u001b[0m \u001b[0mkwds\u001b[0m\u001b[0;34m[\u001b[0m\u001b[0;34m\"has_index_names\"\u001b[0m\u001b[0;34m]\u001b[0m\u001b[0;34m\u001b[0m\u001b[0;34m\u001b[0m\u001b[0m\n\u001b[1;32m    810\u001b[0m \u001b[0;34m\u001b[0m\u001b[0m\n\u001b[0;32m--> 811\u001b[0;31m         \u001b[0mself\u001b[0m\u001b[0;34m.\u001b[0m\u001b[0m_engine\u001b[0m \u001b[0;34m=\u001b[0m \u001b[0mself\u001b[0m\u001b[0;34m.\u001b[0m\u001b[0m_make_engine\u001b[0m\u001b[0;34m(\u001b[0m\u001b[0mself\u001b[0m\u001b[0;34m.\u001b[0m\u001b[0mengine\u001b[0m\u001b[0;34m)\u001b[0m\u001b[0;34m\u001b[0m\u001b[0;34m\u001b[0m\u001b[0m\n\u001b[0m\u001b[1;32m    812\u001b[0m \u001b[0;34m\u001b[0m\u001b[0m\n\u001b[1;32m    813\u001b[0m     \u001b[0;32mdef\u001b[0m \u001b[0mclose\u001b[0m\u001b[0;34m(\u001b[0m\u001b[0mself\u001b[0m\u001b[0;34m)\u001b[0m\u001b[0;34m:\u001b[0m\u001b[0;34m\u001b[0m\u001b[0;34m\u001b[0m\u001b[0m\n",
      "\u001b[0;32m/opt/conda/lib/python3.7/site-packages/pandas/io/parsers/readers.py\u001b[0m in \u001b[0;36m_make_engine\u001b[0;34m(self, engine)\u001b[0m\n\u001b[1;32m   1038\u001b[0m             )\n\u001b[1;32m   1039\u001b[0m         \u001b[0;31m# error: Too many arguments for \"ParserBase\"\u001b[0m\u001b[0;34m\u001b[0m\u001b[0;34m\u001b[0m\u001b[0;34m\u001b[0m\u001b[0m\n\u001b[0;32m-> 1040\u001b[0;31m         \u001b[0;32mreturn\u001b[0m \u001b[0mmapping\u001b[0m\u001b[0;34m[\u001b[0m\u001b[0mengine\u001b[0m\u001b[0;34m]\u001b[0m\u001b[0;34m(\u001b[0m\u001b[0mself\u001b[0m\u001b[0;34m.\u001b[0m\u001b[0mf\u001b[0m\u001b[0;34m,\u001b[0m \u001b[0;34m**\u001b[0m\u001b[0mself\u001b[0m\u001b[0;34m.\u001b[0m\u001b[0moptions\u001b[0m\u001b[0;34m)\u001b[0m  \u001b[0;31m# type: ignore[call-arg]\u001b[0m\u001b[0;34m\u001b[0m\u001b[0;34m\u001b[0m\u001b[0m\n\u001b[0m\u001b[1;32m   1041\u001b[0m \u001b[0;34m\u001b[0m\u001b[0m\n\u001b[1;32m   1042\u001b[0m     \u001b[0;32mdef\u001b[0m \u001b[0m_failover_to_python\u001b[0m\u001b[0;34m(\u001b[0m\u001b[0mself\u001b[0m\u001b[0;34m)\u001b[0m\u001b[0;34m:\u001b[0m\u001b[0;34m\u001b[0m\u001b[0;34m\u001b[0m\u001b[0m\n",
      "\u001b[0;32m/opt/conda/lib/python3.7/site-packages/pandas/io/parsers/c_parser_wrapper.py\u001b[0m in \u001b[0;36m__init__\u001b[0;34m(self, src, **kwds)\u001b[0m\n\u001b[1;32m     49\u001b[0m \u001b[0;34m\u001b[0m\u001b[0m\n\u001b[1;32m     50\u001b[0m         \u001b[0;31m# open handles\u001b[0m\u001b[0;34m\u001b[0m\u001b[0;34m\u001b[0m\u001b[0;34m\u001b[0m\u001b[0m\n\u001b[0;32m---> 51\u001b[0;31m         \u001b[0mself\u001b[0m\u001b[0;34m.\u001b[0m\u001b[0m_open_handles\u001b[0m\u001b[0;34m(\u001b[0m\u001b[0msrc\u001b[0m\u001b[0;34m,\u001b[0m \u001b[0mkwds\u001b[0m\u001b[0;34m)\u001b[0m\u001b[0;34m\u001b[0m\u001b[0;34m\u001b[0m\u001b[0m\n\u001b[0m\u001b[1;32m     52\u001b[0m         \u001b[0;32massert\u001b[0m \u001b[0mself\u001b[0m\u001b[0;34m.\u001b[0m\u001b[0mhandles\u001b[0m \u001b[0;32mis\u001b[0m \u001b[0;32mnot\u001b[0m \u001b[0;32mNone\u001b[0m\u001b[0;34m\u001b[0m\u001b[0;34m\u001b[0m\u001b[0m\n\u001b[1;32m     53\u001b[0m \u001b[0;34m\u001b[0m\u001b[0m\n",
      "\u001b[0;32m/opt/conda/lib/python3.7/site-packages/pandas/io/parsers/base_parser.py\u001b[0m in \u001b[0;36m_open_handles\u001b[0;34m(self, src, kwds)\u001b[0m\n\u001b[1;32m    227\u001b[0m             \u001b[0mmemory_map\u001b[0m\u001b[0;34m=\u001b[0m\u001b[0mkwds\u001b[0m\u001b[0;34m.\u001b[0m\u001b[0mget\u001b[0m\u001b[0;34m(\u001b[0m\u001b[0;34m\"memory_map\"\u001b[0m\u001b[0;34m,\u001b[0m \u001b[0;32mFalse\u001b[0m\u001b[0;34m)\u001b[0m\u001b[0;34m,\u001b[0m\u001b[0;34m\u001b[0m\u001b[0;34m\u001b[0m\u001b[0m\n\u001b[1;32m    228\u001b[0m             \u001b[0mstorage_options\u001b[0m\u001b[0;34m=\u001b[0m\u001b[0mkwds\u001b[0m\u001b[0;34m.\u001b[0m\u001b[0mget\u001b[0m\u001b[0;34m(\u001b[0m\u001b[0;34m\"storage_options\"\u001b[0m\u001b[0;34m,\u001b[0m \u001b[0;32mNone\u001b[0m\u001b[0;34m)\u001b[0m\u001b[0;34m,\u001b[0m\u001b[0;34m\u001b[0m\u001b[0;34m\u001b[0m\u001b[0m\n\u001b[0;32m--> 229\u001b[0;31m             \u001b[0merrors\u001b[0m\u001b[0;34m=\u001b[0m\u001b[0mkwds\u001b[0m\u001b[0;34m.\u001b[0m\u001b[0mget\u001b[0m\u001b[0;34m(\u001b[0m\u001b[0;34m\"encoding_errors\"\u001b[0m\u001b[0;34m,\u001b[0m \u001b[0;34m\"strict\"\u001b[0m\u001b[0;34m)\u001b[0m\u001b[0;34m,\u001b[0m\u001b[0;34m\u001b[0m\u001b[0;34m\u001b[0m\u001b[0m\n\u001b[0m\u001b[1;32m    230\u001b[0m         )\n\u001b[1;32m    231\u001b[0m \u001b[0;34m\u001b[0m\u001b[0m\n",
      "\u001b[0;32m/opt/conda/lib/python3.7/site-packages/pandas/io/common.py\u001b[0m in \u001b[0;36mget_handle\u001b[0;34m(path_or_buf, mode, encoding, compression, memory_map, is_text, errors, storage_options)\u001b[0m\n\u001b[1;32m    705\u001b[0m                 \u001b[0mencoding\u001b[0m\u001b[0;34m=\u001b[0m\u001b[0mioargs\u001b[0m\u001b[0;34m.\u001b[0m\u001b[0mencoding\u001b[0m\u001b[0;34m,\u001b[0m\u001b[0;34m\u001b[0m\u001b[0;34m\u001b[0m\u001b[0m\n\u001b[1;32m    706\u001b[0m                 \u001b[0merrors\u001b[0m\u001b[0;34m=\u001b[0m\u001b[0merrors\u001b[0m\u001b[0;34m,\u001b[0m\u001b[0;34m\u001b[0m\u001b[0;34m\u001b[0m\u001b[0m\n\u001b[0;32m--> 707\u001b[0;31m                 \u001b[0mnewline\u001b[0m\u001b[0;34m=\u001b[0m\u001b[0;34m\"\"\u001b[0m\u001b[0;34m,\u001b[0m\u001b[0;34m\u001b[0m\u001b[0;34m\u001b[0m\u001b[0m\n\u001b[0m\u001b[1;32m    708\u001b[0m             )\n\u001b[1;32m    709\u001b[0m         \u001b[0;32melse\u001b[0m\u001b[0;34m:\u001b[0m\u001b[0;34m\u001b[0m\u001b[0;34m\u001b[0m\u001b[0m\n",
      "\u001b[0;31mFileNotFoundError\u001b[0m: [Errno 2] No such file or directory: 'test.csv'"
     ]
    }
   ],
   "source": [
    "new_test =pd.read_csv('test.csv')\n",
    "x_test = test_df"
   ]
  },
  {
   "cell_type": "code",
   "execution_count": null,
   "id": "6f5f3564",
   "metadata": {
    "papermill": {
     "duration": null,
     "end_time": null,
     "exception": null,
     "start_time": null,
     "status": "pending"
    },
    "tags": []
   },
   "outputs": [],
   "source": [
    "x_test['PassengerId'] = new_test['PassengerId']"
   ]
  },
  {
   "cell_type": "code",
   "execution_count": null,
   "id": "72091fb4",
   "metadata": {
    "papermill": {
     "duration": null,
     "end_time": null,
     "exception": null,
     "start_time": null,
     "status": "pending"
    },
    "tags": []
   },
   "outputs": [],
   "source": [
    "x_test.Fare_category.fillna('low',inplace = True)"
   ]
  },
  {
   "cell_type": "code",
   "execution_count": null,
   "id": "564c4f32",
   "metadata": {
    "papermill": {
     "duration": null,
     "end_time": null,
     "exception": null,
     "start_time": null,
     "status": "pending"
    },
    "tags": []
   },
   "outputs": [],
   "source": [
    "x_test['Sex'] = x_test.Sex.map({'female':1,'male':2})\n",
    "x_test['Embarked'] = x_test.Embarked.map({'C': 1, 'S': 2, 'Q': 3})\n",
    "x_test['Age_Category'] = x_test['Age_Category'].map({'young':0,'teenage' :1,'adults': 2,'senior':3})\n",
    "x_test['Fare_category'] = x_test['Fare_category'].map({'low':0,'middle' :1,'upper_middle': 2,'high':3})"
   ]
  },
  {
   "cell_type": "code",
   "execution_count": null,
   "id": "921913ea",
   "metadata": {
    "papermill": {
     "duration": null,
     "end_time": null,
     "exception": null,
     "start_time": null,
     "status": "pending"
    },
    "tags": []
   },
   "outputs": [],
   "source": [
    "test = x_test.drop('PassengerId',axis = 1)\n",
    "finalpred = ref.predict(test)"
   ]
  }
 ],
 "metadata": {
  "kernelspec": {
   "display_name": "Python 3",
   "language": "python",
   "name": "python3"
  },
  "language_info": {
   "codemirror_mode": {
    "name": "ipython",
    "version": 3
   },
   "file_extension": ".py",
   "mimetype": "text/x-python",
   "name": "python",
   "nbconvert_exporter": "python",
   "pygments_lexer": "ipython3",
   "version": "3.7.12"
  },
  "papermill": {
   "default_parameters": {},
   "duration": 91.209647,
   "end_time": "2022-05-23T23:31:29.295970",
   "environment_variables": {},
   "exception": true,
   "input_path": "__notebook__.ipynb",
   "output_path": "__notebook__.ipynb",
   "parameters": {},
   "start_time": "2022-05-23T23:29:58.086323",
   "version": "2.3.4"
  }
 },
 "nbformat": 4,
 "nbformat_minor": 5
}
